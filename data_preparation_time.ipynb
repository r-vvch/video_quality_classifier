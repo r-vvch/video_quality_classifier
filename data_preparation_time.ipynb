{
 "cells": [
  {
   "cell_type": "code",
   "execution_count": 1,
   "id": "8e32237b",
   "metadata": {
    "executionInfo": {
     "elapsed": 417,
     "status": "ok",
     "timestamp": 1653558783528,
     "user": {
      "displayName": "Roman Vovchenko",
      "userId": "01649457471994719553"
     },
     "user_tz": -180
    },
    "id": "8e32237b"
   },
   "outputs": [],
   "source": [
    "import pandas as pd\n",
    "import math\n",
    "import matplotlib.pyplot as plt"
   ]
  },
  {
   "cell_type": "code",
   "execution_count": 2,
   "id": "RDdwjOMpyBC5",
   "metadata": {
    "executionInfo": {
     "elapsed": 412,
     "status": "ok",
     "timestamp": 1653558794583,
     "user": {
      "displayName": "Roman Vovchenko",
      "userId": "01649457471994719553"
     },
     "user_tz": -180
    },
    "id": "RDdwjOMpyBC5"
   },
   "outputs": [],
   "source": [
    "adresses = [\n",
    "    'YouTube_CSV/1_Wildlife/',\n",
    "    'YouTube_CSV/2_Dynasties/',\n",
    "    'YouTube_CSV/3_Big_Bang/',\n",
    "    'YouTube_CSV/4_UK_National_Parks/',\n",
    "    'YouTube_CSV/5_Mate_or_die_trying/',\n",
    "    'YouTube_CSV/6_Where_Are_the_Stars/',\n",
    "    'YouTube_CSV/7_Filming_Wildlife_Documentary/',\n",
    "    'YouTube_CSV/8_Fireflies/',\n",
    "    'YouTube_CSV/9_Seven_Worlds/',\n",
    "    'YouTube_CSV/10_Uncover_Antarctica/',\n",
    "    'YouTube_CSV/11_What_Sperm_Whales/',\n",
    "    'YouTube_CSV/12_Everest_Biology/',\n",
    "    'YouTube_CSV/13_Mapping_the_Highest_Peak/',\n",
    "    'YouTube_CSV/14_Meet_the_Worlds_Tiniest_Trees/',\n",
    "    'YouTube_CSV/15_What_To_Do/',\n",
    "    'YouTube_CSV/16_Everest_Weather/',\n",
    "    'YouTube_CSV/17_What_Mud_From_Glacial_Lakes/',\n",
    "    'YouTube_CSV/18_Everest_Glaciology/',\n",
    "    'YouTube_CSV/19_Plants_Dying/',\n",
    "    'YouTube_CSV/20_Macaroni_Penguins/',\n",
    "    'YouTube_CSV/21_Go_Inside_an_Antarctic_City/',\n",
    "    'YouTube_CSV/22_Snow_Leopards/',\n",
    "    'YouTube_CSV/23_Saving_the_Florida_Wildlife_Corridor/',\n",
    "    'YouTube_CSV/24_Wolf_Pack_Takes_on_a_Polar_Bear/',\n",
    "    'YouTube_CSV/25_Last_Wild_Places/'\n",
    "]"
   ]
  },
  {
   "cell_type": "code",
   "execution_count": 3,
   "id": "07a6226a",
   "metadata": {},
   "outputs": [],
   "source": [
    "video_lengths = [\n",
    "    65,\n",
    "    75,\n",
    "    79,\n",
    "    139,\n",
    "    187,\n",
    "    188,\n",
    "    204,\n",
    "    209,\n",
    "    239,\n",
    "    240,\n",
    "    241,\n",
    "    317,\n",
    "    474,\n",
    "    476,\n",
    "    478,\n",
    "    482,\n",
    "    496,\n",
    "    504,\n",
    "    523,\n",
    "    546,\n",
    "    564,\n",
    "    599,\n",
    "    606,\n",
    "    654,\n",
    "    820\n",
    "]"
   ]
  },
  {
   "cell_type": "code",
   "execution_count": 4,
   "id": "207761a3",
   "metadata": {},
   "outputs": [],
   "source": [
    "def density_counter_plotted(quality):\n",
    "    time_unit = 1\n",
    "\n",
    "    d = {'Video_number': [], 'Density_burst': [], 'Density_throttling': []}\n",
    "    for i in range(len(adresses)):\n",
    "        data = pd.read_csv(adresses[i] + quality + '.csv')\n",
    "        if video_lengths[i] > data['Time'].iat[-1] - data['Time'].iat[0]:\n",
    "            max_time = video_lengths[i]\n",
    "        else:\n",
    "            max_time = data['Time'].iat[-1] - data['Time'].iat[0]\n",
    "        time_units = math.ceil(max_time / time_unit)\n",
    "        lengths = [0] * time_units\n",
    "        for index, row in data.iterrows():\n",
    "            lengths[math.floor(row['Time'] / time_unit)] += row['Length']\n",
    "\n",
    "        # получили массив длин, надо вычислить расположение первоначального пика\n",
    "        # и вычислить Density_burst и Density_throttling\n",
    "\n",
    "        times = [0] * (time_units + 1)\n",
    "\n",
    "        for m in range(len(times)):\n",
    "            times[m] = m * time_unit\n",
    "        times = [0] * (time_units + 1)\n",
    "\n",
    "        for m in range(len(times)):\n",
    "            times[m] = m * time_unit\n",
    "\n",
    "\n",
    "        plt.stairs(lengths, times, fill=True)\n",
    "        plt.title(adresses[i] + '4K.csv')\n",
    "        plt.xlabel('time')\n",
    "        plt.show()\n",
    "\n",
    "        difference_pos = 0\n",
    "        # 40 -- 40 секунд, за которые точно успевает пройти burst\n",
    "        for j in range(40 // time_unit):\n",
    "            if (difference_pos == 0 and lengths[j + 1] == 0):\n",
    "                difference_pos = j + 1\n",
    "                print('difference_pos: ' + str(difference_pos))\n",
    "\n",
    "        if difference_pos == 0:\n",
    "            coeff = 3\n",
    "            for j in range(40 // time_unit):\n",
    "                if lengths[j] != 0 and lengths[j + 1] != 0 and lengths[j] > lengths[j + 1] * coeff:\n",
    "                    difference_pos = j + 1\n",
    "                    print('difference_pos: ' + str(difference_pos))\n",
    "                    coeff = lengths[j] / lengths[j + 1]\n",
    "\n",
    "        if difference_pos == 0:\n",
    "            difference = 0\n",
    "            for j in range(1, time_units):\n",
    "                first_sum = 0\n",
    "                second_sum = 0\n",
    "                for k in range(0, j):\n",
    "                    first_sum += lengths[k]\n",
    "                for l in range(j, time_units):\n",
    "                    second_sum += lengths[l]\n",
    "                if first_sum / j - second_sum / (time_units - j) > difference:\n",
    "                    difference = first_sum / j - second_sum / (time_units - j)\n",
    "                    difference_pos = j\n",
    "            print('difference_pos: ' + str(difference_pos))\n",
    "\n",
    "\n",
    "        # Вычислили расположение первоначального пика, остались density_burst и density_throttling\n",
    "\n",
    "\n",
    "        density_burst = 0\n",
    "        density_throttling = 0\n",
    "        for p in range(0, difference_pos):\n",
    "            density_burst += lengths[p]\n",
    "        for q in range(difference_pos, time_units):\n",
    "            density_throttling += lengths[q]\n",
    "        density_burst = density_burst / (difference_pos * time_unit)\n",
    "        density_throttling = density_throttling / ((time_units - difference_pos) * time_unit)\n",
    "\n",
    "        num_spaces = len(str(int(density_burst))) - len(str(int(density_throttling)))\n",
    "        print('density_burst:        ', density_burst)\n",
    "        print('density_throttling:   ' + ' ' * num_spaces, density_throttling)\n",
    "\n",
    "        d['Video_number'].append(i + 1)\n",
    "        d['Density_burst'].append(density_burst)\n",
    "        d['Density_throttling'].append(density_throttling)\n",
    "        \n",
    "    return d"
   ]
  },
  {
   "cell_type": "code",
   "execution_count": 5,
   "id": "4d7aa5c7",
   "metadata": {},
   "outputs": [],
   "source": [
    "def density_counter(quality):\n",
    "    time_unit = 1\n",
    "\n",
    "    d = {'Video_number': [], 'Density_burst': [], 'Density_throttling': []}\n",
    "    for i in range(len(adresses)):\n",
    "        data = pd.read_csv(adresses[i] + quality + '.csv')\n",
    "        if video_lengths[i] > data['Time'].iat[-1] - data['Time'].iat[0]:\n",
    "            max_time = video_lengths[i]\n",
    "        else:\n",
    "            max_time = data['Time'].iat[-1] - data['Time'].iat[0]\n",
    "        time_units = math.ceil(max_time / time_unit)\n",
    "        lengths = [0] * time_units\n",
    "        for index, row in data.iterrows():\n",
    "            lengths[math.floor(row['Time'] / time_unit)] += row['Length']\n",
    "\n",
    "        # получили массив длин, надо вычислить расположение первоначального пика\n",
    "        # и вычислить Density_burst и Density_throttling\n",
    "\n",
    "        difference_pos = 0\n",
    "        # 40 -- 40 секунд, за которые точно успевает пройти burst\n",
    "        for j in range(40 // time_unit):\n",
    "            if (difference_pos == 0 and lengths[j + 1] == 0):\n",
    "                difference_pos = j + 1\n",
    "\n",
    "        if difference_pos == 0:\n",
    "            coeff = 3\n",
    "            for j in range(40 // time_unit):\n",
    "                if lengths[j] != 0 and lengths[j + 1] != 0 and lengths[j] > lengths[j + 1] * coeff:\n",
    "                    difference_pos = j + 1\n",
    "                    print(difference_pos)\n",
    "                    coeff = lengths[j] / lengths[j + 1]\n",
    "\n",
    "        if difference_pos == 0:\n",
    "            difference = 0\n",
    "            for j in range(1, time_units):\n",
    "                first_sum = 0\n",
    "                second_sum = 0\n",
    "                for k in range(0, j):\n",
    "                    first_sum += lengths[k]\n",
    "                for l in range(j, time_units):\n",
    "                    second_sum += lengths[l]\n",
    "                if first_sum / j - second_sum / (time_units - j) > difference:\n",
    "                    difference = first_sum / j - second_sum / (time_units - j)\n",
    "                    difference_pos = j\n",
    "\n",
    "        # Вычислили расположение первоначального пика, остались density_burst и density_throttling\n",
    "\n",
    "        density_burst = 0\n",
    "        density_throttling = 0\n",
    "        for p in range(0, difference_pos):\n",
    "            density_burst += lengths[p]\n",
    "        for q in range(difference_pos, time_units):\n",
    "            density_throttling += lengths[q]\n",
    "        density_burst = density_burst / (difference_pos * time_unit)\n",
    "        density_throttling = density_throttling / ((time_units - difference_pos) * time_unit)\n",
    "\n",
    "        num_spaces = len(str(int(density_burst))) - len(str(int(density_throttling)))\n",
    "\n",
    "        d['Video_number'].append(i + 1)\n",
    "        d['Density_burst'].append(density_burst)\n",
    "        d['Density_throttling'].append(density_throttling)\n",
    "        \n",
    "    return d"
   ]
  },
  {
   "cell_type": "code",
   "execution_count": 6,
   "id": "9ac40d33",
   "metadata": {
    "scrolled": false
   },
   "outputs": [
    {
     "data": {
      "image/png": "[encoded data removed]",
      "text/plain": [
       "<Figure size 432x288 with 1 Axes>"
      ]
     },
     "metadata": {
      "needs_background": "light"
     },
     "output_type": "display_data"
    },
    {
     "name": "stdout",
     "output_type": "stream",
     "text": [
      "difference_pos: 3\n",
      "density_burst:         25758728.333333332\n",
      "density_throttling:      767006.2741935484\n"
     ]
    },
    {
     "data": {
      "image/png": "[encoded data removed]",
      "text/plain": [
       "<Figure size 432x288 with 1 Axes>"
      ]
     },
     "metadata": {
      "needs_background": "light"
     },
     "output_type": "display_data"
    },
    {
     "name": "stdout",
     "output_type": "stream",
     "text": [
      "difference_pos: 3\n",
      "density_burst:         20934975.666666668\n",
      "density_throttling:      818772.5972222222\n"
     ]
    },
    {
     "data": {
      "image/png": "[encoded data removed]",
      "text/plain": [
       "<Figure size 432x288 with 1 Axes>"
      ]
     },
     "metadata": {
      "needs_background": "light"
     },
     "output_type": "display_data"
    },
    {
     "name": "stdout",
     "output_type": "stream",
     "text": [
      "difference_pos: 3\n",
      "density_burst:         24736381.333333332\n",
      "density_throttling:     1220761.9342105263\n"
     ]
    },
    {
     "data": {
      "image/png": "[encoded data removed]",
      "text/plain": [
       "<Figure size 432x288 with 1 Axes>"
      ]
     },
     "metadata": {
      "needs_background": "light"
     },
     "output_type": "display_data"
    },
    {
     "name": "stdout",
     "output_type": "stream",
     "text": [
      "difference_pos: 4\n",
      "density_burst:         17716277.0\n",
      "density_throttling:     1517696.4518518518\n"
     ]
    },
    {
     "data": {
      "image/png": "[encoded data removed]",
      "text/plain": [
       "<Figure size 432x288 with 1 Axes>"
      ]
     },
     "metadata": {
      "needs_background": "light"
     },
     "output_type": "display_data"
    },
    {
     "name": "stdout",
     "output_type": "stream",
     "text": [
      "difference_pos: 3\n",
      "density_burst:         9715530.666666666\n",
      "density_throttling:     705239.875\n"
     ]
    },
    {
     "data": {
      "image/png": "[encoded data removed]",
      "text/plain": [
       "<Figure size 432x288 with 1 Axes>"
      ]
     },
     "metadata": {
      "needs_background": "light"
     },
     "output_type": "display_data"
    },
    {
     "name": "stdout",
     "output_type": "stream",
     "text": [
      "difference_pos: 2\n",
      "density_burst:         21763364.5\n",
      "density_throttling:     1522981.1344086023\n"
     ]
    },
    {
     "data": {
      "image/png": "[encoded data removed]",
      "text/plain": [
       "<Figure size 432x288 with 1 Axes>"
      ]
     },
     "metadata": {
      "needs_background": "light"
     },
     "output_type": "display_data"
    },
    {
     "name": "stdout",
     "output_type": "stream",
     "text": [
      "difference_pos: 4\n",
      "density_burst:         17789854.75\n",
      "density_throttling:     1759674.645\n"
     ]
    },
    {
     "data": {
      "image/png": "[encoded data removed]",
      "text/plain": [
       "<Figure size 432x288 with 1 Axes>"
      ]
     },
     "metadata": {
      "needs_background": "light"
     },
     "output_type": "display_data"
    },
    {
     "name": "stdout",
     "output_type": "stream",
     "text": [
      "difference_pos: 1\n",
      "density_burst:         22528835.0\n",
      "density_throttling:      529345.7132075472\n"
     ]
    },
    {
     "data": {
      "image/png": "[encoded data removed]",
      "text/plain": [
       "<Figure size 432x288 with 1 Axes>"
      ]
     },
     "metadata": {
      "needs_background": "light"
     },
     "output_type": "display_data"
    },
    {
     "name": "stdout",
     "output_type": "stream",
     "text": [
      "difference_pos: 3\n",
      "density_burst:         21769150.666666668\n",
      "density_throttling:     1317822.8375\n"
     ]
    },
    {
     "data": {
      "image/png": "[encoded data removed]",
      "text/plain": [
       "<Figure size 432x288 with 1 Axes>"
      ]
     },
     "metadata": {
      "needs_background": "light"
     },
     "output_type": "display_data"
    },
    {
     "name": "stdout",
     "output_type": "stream",
     "text": [
      "difference_pos: 23\n",
      "density_burst:         3860775.3913043477\n",
      "density_throttling:    1181911.9032258065\n"
     ]
    },
    {
     "data": {
      "image/png": "[encoded data removed]",
      "text/plain": [
       "<Figure size 432x288 with 1 Axes>"
      ]
     },
     "metadata": {
      "needs_background": "light"
     },
     "output_type": "display_data"
    },
    {
     "name": "stdout",
     "output_type": "stream",
     "text": [
      "difference_pos: 15\n",
      "density_burst:         5626412.933333334\n",
      "density_throttling:    1448097.0353982302\n"
     ]
    },
    {
     "data": {
      "image/png": "[encoded data removed]",
      "text/plain": [
       "<Figure size 432x288 with 1 Axes>"
      ]
     },
     "metadata": {
      "needs_background": "light"
     },
     "output_type": "display_data"
    },
    {
     "name": "stdout",
     "output_type": "stream",
     "text": [
      "difference_pos: 29\n",
      "density_burst:         3342867.5172413792\n",
      "density_throttling:    1363895.4315068494\n"
     ]
    },
    {
     "data": {
      "image/png": "[encoded data removed]",
      "text/plain": [
       "<Figure size 432x288 with 1 Axes>"
      ]
     },
     "metadata": {
      "needs_background": "light"
     },
     "output_type": "display_data"
    },
    {
     "name": "stdout",
     "output_type": "stream",
     "text": [
      "difference_pos: 3\n",
      "density_burst:         24494151.333333332\n",
      "density_throttling:     1579383.4097664542\n"
     ]
    },
    {
     "data": {
      "image/png": "[encoded data removed]",
      "text/plain": [
       "<Figure size 432x288 with 1 Axes>"
      ]
     },
     "metadata": {
      "needs_background": "light"
     },
     "output_type": "display_data"
    },
    {
     "name": "stdout",
     "output_type": "stream",
     "text": [
      "difference_pos: 3\n",
      "density_burst:         12707263.666666666\n",
      "density_throttling:     1840269.9096638656\n"
     ]
    },
    {
     "data": {
      "image/png": "[encoded data removed]",
      "text/plain": [
       "<Figure size 432x288 with 1 Axes>"
      ]
     },
     "metadata": {
      "needs_background": "light"
     },
     "output_type": "display_data"
    },
    {
     "name": "stdout",
     "output_type": "stream",
     "text": [
      "difference_pos: 5\n",
      "density_burst:         14109410.8\n",
      "density_throttling:     1717078.5243128964\n"
     ]
    },
    {
     "data": {
      "image/png": "[encoded data removed]",
      "text/plain": [
       "<Figure size 432x288 with 1 Axes>"
      ]
     },
     "metadata": {
      "needs_background": "light"
     },
     "output_type": "display_data"
    },
    {
     "name": "stdout",
     "output_type": "stream",
     "text": [
      "difference_pos: 3\n",
      "density_burst:         20749174.333333332\n",
      "density_throttling:     1267769.9979123173\n"
     ]
    },
    {
     "data": {
      "image/png": "[encoded data removed]",
      "text/plain": [
       "<Figure size 432x288 with 1 Axes>"
      ]
     },
     "metadata": {
      "needs_background": "light"
     },
     "output_type": "display_data"
    },
    {
     "name": "stdout",
     "output_type": "stream",
     "text": [
      "difference_pos: 3\n",
      "density_burst:         18917505.666666668\n",
      "density_throttling:     1704894.6004056796\n"
     ]
    },
    {
     "data": {
      "image/png": "[encoded data removed]",
      "text/plain": [
       "<Figure size 432x288 with 1 Axes>"
      ]
     },
     "metadata": {
      "needs_background": "light"
     },
     "output_type": "display_data"
    },
    {
     "name": "stdout",
     "output_type": "stream",
     "text": [
      "difference_pos: 4\n",
      "density_burst:         14757157.5\n",
      "density_throttling:     1466909.876\n"
     ]
    },
    {
     "data": {
      "image/png": "[encoded data removed]",
      "text/plain": [
       "<Figure size 432x288 with 1 Axes>"
      ]
     },
     "metadata": {
      "needs_background": "light"
     },
     "output_type": "display_data"
    },
    {
     "name": "stdout",
     "output_type": "stream",
     "text": [
      "difference_pos: 4\n",
      "density_burst:         20510020.25\n",
      "density_throttling:     1962245.3949903662\n"
     ]
    },
    {
     "data": {
      "image/png": "[encoded data removed]",
      "text/plain": [
       "<Figure size 432x288 with 1 Axes>"
      ]
     },
     "metadata": {
      "needs_background": "light"
     },
     "output_type": "display_data"
    },
    {
     "name": "stdout",
     "output_type": "stream",
     "text": [
      "difference_pos: 2\n",
      "density_burst:         37416633.0\n",
      "density_throttling:     1844300.3180147058\n"
     ]
    },
    {
     "data": {
      "image/png": "[encoded data removed]",
      "text/plain": [
       "<Figure size 432x288 with 1 Axes>"
      ]
     },
     "metadata": {
      "needs_background": "light"
     },
     "output_type": "display_data"
    },
    {
     "name": "stdout",
     "output_type": "stream",
     "text": [
      "difference_pos: 5\n",
      "density_burst:         13495259.2\n",
      "density_throttling:     1580487.808586762\n"
     ]
    },
    {
     "data": {
      "image/png": "[encoded data removed]",
      "text/plain": [
       "<Figure size 432x288 with 1 Axes>"
      ]
     },
     "metadata": {
      "needs_background": "light"
     },
     "output_type": "display_data"
    },
    {
     "name": "stdout",
     "output_type": "stream",
     "text": [
      "difference_pos: 3\n",
      "density_burst:         22556985.333333332\n",
      "density_throttling:     1629289.2130872484\n"
     ]
    },
    {
     "data": {
      "image/png": "[encoded data removed]",
      "text/plain": [
       "<Figure size 432x288 with 1 Axes>"
      ]
     },
     "metadata": {
      "needs_background": "light"
     },
     "output_type": "display_data"
    },
    {
     "name": "stdout",
     "output_type": "stream",
     "text": [
      "difference_pos: 2\n",
      "density_burst:         22882952.5\n",
      "density_throttling:     1076915.834437086\n"
     ]
    },
    {
     "data": {
      "image/png": "[encoded data removed]",
      "text/plain": [
       "<Figure size 432x288 with 1 Axes>"
      ]
     },
     "metadata": {
      "needs_background": "light"
     },
     "output_type": "display_data"
    },
    {
     "name": "stdout",
     "output_type": "stream",
     "text": [
      "difference_pos: 2\n",
      "density_burst:         27554606.0\n",
      "density_throttling:     1447938.777607362\n"
     ]
    },
    {
     "data": {
      "image/png": "[encoded data removed]",
      "text/plain": [
       "<Figure size 432x288 with 1 Axes>"
      ]
     },
     "metadata": {
      "needs_background": "light"
     },
     "output_type": "display_data"
    },
    {
     "name": "stdout",
     "output_type": "stream",
     "text": [
      "difference_pos: 2\n",
      "density_burst:         24918728.0\n",
      "density_throttling:     1199414.2078239608\n"
     ]
    }
   ],
   "source": [
    "d = density_counter_plotted('4K')"
   ]
  },
  {
   "cell_type": "code",
   "execution_count": 7,
   "id": "a4fb79be",
   "metadata": {},
   "outputs": [
    {
     "data": {
      "text/html": [
       "<div>\n",
       "<style scoped>\n",
       "    .dataframe tbody tr th:only-of-type {\n",
       "        vertical-align: middle;\n",
       "    }\n",
       "\n",
       "    .dataframe tbody tr th {\n",
       "        vertical-align: top;\n",
       "    }\n",
       "\n",
       "    .dataframe thead th {\n",
       "        text-align: right;\n",
       "    }\n",
       "</style>\n",
       "<table border=\"1\" class=\"dataframe\">\n",
       "  <thead>\n",
       "    <tr style=\"text-align: right;\">\n",
       "      <th></th>\n",
       "      <th>Video_number</th>\n",
       "      <th>Density_burst</th>\n",
       "      <th>Density_throttling</th>\n",
       "    </tr>\n",
       "  </thead>\n",
       "  <tbody>\n",
       "    <tr>\n",
       "      <th>0</th>\n",
       "      <td>1</td>\n",
       "      <td>2.575873e+07</td>\n",
       "      <td>7.670063e+05</td>\n",
       "    </tr>\n",
       "    <tr>\n",
       "      <th>1</th>\n",
       "      <td>2</td>\n",
       "      <td>2.093498e+07</td>\n",
       "      <td>8.187726e+05</td>\n",
       "    </tr>\n",
       "    <tr>\n",
       "      <th>2</th>\n",
       "      <td>3</td>\n",
       "      <td>2.473638e+07</td>\n",
       "      <td>1.220762e+06</td>\n",
       "    </tr>\n",
       "    <tr>\n",
       "      <th>3</th>\n",
       "      <td>4</td>\n",
       "      <td>1.771628e+07</td>\n",
       "      <td>1.517696e+06</td>\n",
       "    </tr>\n",
       "    <tr>\n",
       "      <th>4</th>\n",
       "      <td>5</td>\n",
       "      <td>9.715531e+06</td>\n",
       "      <td>7.052399e+05</td>\n",
       "    </tr>\n",
       "  </tbody>\n",
       "</table>\n",
       "</div>"
      ],
      "text/plain": [
       "   Video_number  Density_burst  Density_throttling\n",
       "0             1   2.575873e+07        7.670063e+05\n",
       "1             2   2.093498e+07        8.187726e+05\n",
       "2             3   2.473638e+07        1.220762e+06\n",
       "3             4   1.771628e+07        1.517696e+06\n",
       "4             5   9.715531e+06        7.052399e+05"
      ]
     },
     "execution_count": 7,
     "metadata": {},
     "output_type": "execute_result"
    }
   ],
   "source": [
    "pd.DataFrame(data=d).head(5)"
   ]
  },
  {
   "cell_type": "code",
   "execution_count": 8,
   "id": "fd37a714",
   "metadata": {},
   "outputs": [
    {
     "data": {
      "text/html": [
       "<div>\n",
       "<style scoped>\n",
       "    .dataframe tbody tr th:only-of-type {\n",
       "        vertical-align: middle;\n",
       "    }\n",
       "\n",
       "    .dataframe tbody tr th {\n",
       "        vertical-align: top;\n",
       "    }\n",
       "\n",
       "    .dataframe thead th {\n",
       "        text-align: right;\n",
       "    }\n",
       "</style>\n",
       "<table border=\"1\" class=\"dataframe\">\n",
       "  <thead>\n",
       "    <tr style=\"text-align: right;\">\n",
       "      <th></th>\n",
       "      <th>Video_number</th>\n",
       "      <th>Density_burst</th>\n",
       "      <th>Density_throttling</th>\n",
       "    </tr>\n",
       "  </thead>\n",
       "  <tbody>\n",
       "    <tr>\n",
       "      <th>0</th>\n",
       "      <td>1</td>\n",
       "      <td>2.575873e+07</td>\n",
       "      <td>7.670063e+05</td>\n",
       "    </tr>\n",
       "    <tr>\n",
       "      <th>1</th>\n",
       "      <td>2</td>\n",
       "      <td>2.093498e+07</td>\n",
       "      <td>8.187726e+05</td>\n",
       "    </tr>\n",
       "    <tr>\n",
       "      <th>2</th>\n",
       "      <td>3</td>\n",
       "      <td>2.473638e+07</td>\n",
       "      <td>1.220762e+06</td>\n",
       "    </tr>\n",
       "    <tr>\n",
       "      <th>3</th>\n",
       "      <td>4</td>\n",
       "      <td>1.771628e+07</td>\n",
       "      <td>1.517696e+06</td>\n",
       "    </tr>\n",
       "    <tr>\n",
       "      <th>4</th>\n",
       "      <td>5</td>\n",
       "      <td>9.715531e+06</td>\n",
       "      <td>7.052399e+05</td>\n",
       "    </tr>\n",
       "  </tbody>\n",
       "</table>\n",
       "</div>"
      ],
      "text/plain": [
       "   Video_number  Density_burst  Density_throttling\n",
       "0             1   2.575873e+07        7.670063e+05\n",
       "1             2   2.093498e+07        8.187726e+05\n",
       "2             3   2.473638e+07        1.220762e+06\n",
       "3             4   1.771628e+07        1.517696e+06\n",
       "4             5   9.715531e+06        7.052399e+05"
      ]
     },
     "execution_count": 8,
     "metadata": {},
     "output_type": "execute_result"
    }
   ],
   "source": [
    "df_4K = pd.DataFrame(data=density_counter('4K'))\n",
    "df_4K.head(5)"
   ]
  },
  {
   "cell_type": "code",
   "execution_count": 9,
   "id": "7a296a6b",
   "metadata": {
    "colab": {
     "base_uri": "https://localhost:8080/",
     "height": 833
    },
    "executionInfo": {
     "elapsed": 12254,
     "status": "ok",
     "timestamp": 1653500292866,
     "user": {
      "displayName": "Roman Vovchenko",
      "userId": "01649457471994719553"
     },
     "user_tz": -180
    },
    "id": "7a296a6b",
    "outputId": "576b2e90-b739-425a-fe92-87eb29d054d8"
   },
   "outputs": [
    {
     "data": {
      "text/html": [
       "<div>\n",
       "<style scoped>\n",
       "    .dataframe tbody tr th:only-of-type {\n",
       "        vertical-align: middle;\n",
       "    }\n",
       "\n",
       "    .dataframe tbody tr th {\n",
       "        vertical-align: top;\n",
       "    }\n",
       "\n",
       "    .dataframe thead th {\n",
       "        text-align: right;\n",
       "    }\n",
       "</style>\n",
       "<table border=\"1\" class=\"dataframe\">\n",
       "  <thead>\n",
       "    <tr style=\"text-align: right;\">\n",
       "      <th></th>\n",
       "      <th>Video_number</th>\n",
       "      <th>Density_burst</th>\n",
       "      <th>Density_throttling</th>\n",
       "    </tr>\n",
       "  </thead>\n",
       "  <tbody>\n",
       "    <tr>\n",
       "      <th>0</th>\n",
       "      <td>1</td>\n",
       "      <td>13658359.00</td>\n",
       "      <td>2.163934</td>\n",
       "    </tr>\n",
       "    <tr>\n",
       "      <th>1</th>\n",
       "      <td>2</td>\n",
       "      <td>46682571.00</td>\n",
       "      <td>25629.229730</td>\n",
       "    </tr>\n",
       "    <tr>\n",
       "      <th>2</th>\n",
       "      <td>3</td>\n",
       "      <td>22078572.00</td>\n",
       "      <td>123875.460526</td>\n",
       "    </tr>\n",
       "    <tr>\n",
       "      <th>3</th>\n",
       "      <td>4</td>\n",
       "      <td>18859388.00</td>\n",
       "      <td>380097.169118</td>\n",
       "    </tr>\n",
       "    <tr>\n",
       "      <th>4</th>\n",
       "      <td>5</td>\n",
       "      <td>5707550.75</td>\n",
       "      <td>131104.928962</td>\n",
       "    </tr>\n",
       "  </tbody>\n",
       "</table>\n",
       "</div>"
      ],
      "text/plain": [
       "   Video_number  Density_burst  Density_throttling\n",
       "0             1    13658359.00            2.163934\n",
       "1             2    46682571.00        25629.229730\n",
       "2             3    22078572.00       123875.460526\n",
       "3             4    18859388.00       380097.169118\n",
       "4             5     5707550.75       131104.928962"
      ]
     },
     "execution_count": 9,
     "metadata": {},
     "output_type": "execute_result"
    }
   ],
   "source": [
    "df_1440 = pd.DataFrame(data=density_counter('1440'))\n",
    "df_1440.head(5)"
   ]
  },
  {
   "cell_type": "code",
   "execution_count": 10,
   "id": "00413979",
   "metadata": {
    "id": "00413979",
    "outputId": "32a0a93f-3006-41bf-fa58-2bd8c95f87f9"
   },
   "outputs": [
    {
     "data": {
      "text/html": [
       "<div>\n",
       "<style scoped>\n",
       "    .dataframe tbody tr th:only-of-type {\n",
       "        vertical-align: middle;\n",
       "    }\n",
       "\n",
       "    .dataframe tbody tr th {\n",
       "        vertical-align: top;\n",
       "    }\n",
       "\n",
       "    .dataframe thead th {\n",
       "        text-align: right;\n",
       "    }\n",
       "</style>\n",
       "<table border=\"1\" class=\"dataframe\">\n",
       "  <thead>\n",
       "    <tr style=\"text-align: right;\">\n",
       "      <th></th>\n",
       "      <th>Video_number</th>\n",
       "      <th>Density_burst</th>\n",
       "      <th>Density_throttling</th>\n",
       "    </tr>\n",
       "  </thead>\n",
       "  <tbody>\n",
       "    <tr>\n",
       "      <th>0</th>\n",
       "      <td>1</td>\n",
       "      <td>20224749.0</td>\n",
       "      <td>2.062500</td>\n",
       "    </tr>\n",
       "    <tr>\n",
       "      <th>1</th>\n",
       "      <td>2</td>\n",
       "      <td>18024984.0</td>\n",
       "      <td>1.783784</td>\n",
       "    </tr>\n",
       "    <tr>\n",
       "      <th>2</th>\n",
       "      <td>3</td>\n",
       "      <td>12865137.5</td>\n",
       "      <td>3.428571</td>\n",
       "    </tr>\n",
       "    <tr>\n",
       "      <th>3</th>\n",
       "      <td>4</td>\n",
       "      <td>13728106.0</td>\n",
       "      <td>7.352113</td>\n",
       "    </tr>\n",
       "    <tr>\n",
       "      <th>4</th>\n",
       "      <td>5</td>\n",
       "      <td>13080382.0</td>\n",
       "      <td>49020.863158</td>\n",
       "    </tr>\n",
       "  </tbody>\n",
       "</table>\n",
       "</div>"
      ],
      "text/plain": [
       "   Video_number  Density_burst  Density_throttling\n",
       "0             1     20224749.0            2.062500\n",
       "1             2     18024984.0            1.783784\n",
       "2             3     12865137.5            3.428571\n",
       "3             4     13728106.0            7.352113\n",
       "4             5     13080382.0        49020.863158"
      ]
     },
     "execution_count": 10,
     "metadata": {},
     "output_type": "execute_result"
    }
   ],
   "source": [
    "df_1080 = pd.DataFrame(data=density_counter('1080'))\n",
    "df_1080.head(5)"
   ]
  },
  {
   "cell_type": "code",
   "execution_count": 11,
   "id": "cd1aad29",
   "metadata": {
    "colab": {
     "base_uri": "https://localhost:8080/",
     "height": 833
    },
    "executionInfo": {
     "elapsed": 11651,
     "status": "ok",
     "timestamp": 1653500326079,
     "user": {
      "displayName": "Roman Vovchenko",
      "userId": "01649457471994719553"
     },
     "user_tz": -180
    },
    "id": "cd1aad29",
    "outputId": "f582ed51-a8dd-47fb-99ec-298d45fcfc7e"
   },
   "outputs": [
    {
     "data": {
      "text/html": [
       "<div>\n",
       "<style scoped>\n",
       "    .dataframe tbody tr th:only-of-type {\n",
       "        vertical-align: middle;\n",
       "    }\n",
       "\n",
       "    .dataframe tbody tr th {\n",
       "        vertical-align: top;\n",
       "    }\n",
       "\n",
       "    .dataframe thead th {\n",
       "        text-align: right;\n",
       "    }\n",
       "</style>\n",
       "<table border=\"1\" class=\"dataframe\">\n",
       "  <thead>\n",
       "    <tr style=\"text-align: right;\">\n",
       "      <th></th>\n",
       "      <th>Video_number</th>\n",
       "      <th>Density_burst</th>\n",
       "      <th>Density_throttling</th>\n",
       "    </tr>\n",
       "  </thead>\n",
       "  <tbody>\n",
       "    <tr>\n",
       "      <th>0</th>\n",
       "      <td>1</td>\n",
       "      <td>11899548.0</td>\n",
       "      <td>2.062500</td>\n",
       "    </tr>\n",
       "    <tr>\n",
       "      <th>1</th>\n",
       "      <td>2</td>\n",
       "      <td>10323730.0</td>\n",
       "      <td>1.783784</td>\n",
       "    </tr>\n",
       "    <tr>\n",
       "      <th>2</th>\n",
       "      <td>3</td>\n",
       "      <td>7353546.0</td>\n",
       "      <td>3.428571</td>\n",
       "    </tr>\n",
       "    <tr>\n",
       "      <th>3</th>\n",
       "      <td>4</td>\n",
       "      <td>8273887.0</td>\n",
       "      <td>5.781022</td>\n",
       "    </tr>\n",
       "    <tr>\n",
       "      <th>4</th>\n",
       "      <td>5</td>\n",
       "      <td>11338098.0</td>\n",
       "      <td>14331.203125</td>\n",
       "    </tr>\n",
       "  </tbody>\n",
       "</table>\n",
       "</div>"
      ],
      "text/plain": [
       "   Video_number  Density_burst  Density_throttling\n",
       "0             1     11899548.0            2.062500\n",
       "1             2     10323730.0            1.783784\n",
       "2             3      7353546.0            3.428571\n",
       "3             4      8273887.0            5.781022\n",
       "4             5     11338098.0        14331.203125"
      ]
     },
     "execution_count": 11,
     "metadata": {},
     "output_type": "execute_result"
    }
   ],
   "source": [
    "df_720 = pd.DataFrame(data=density_counter('720'))\n",
    "df_720.head(5)"
   ]
  },
  {
   "cell_type": "code",
   "execution_count": 12,
   "id": "99246a8c",
   "metadata": {
    "colab": {
     "base_uri": "https://localhost:8080/",
     "height": 833
    },
    "executionInfo": {
     "elapsed": 10804,
     "status": "ok",
     "timestamp": 1653500340459,
     "user": {
      "displayName": "Roman Vovchenko",
      "userId": "01649457471994719553"
     },
     "user_tz": -180
    },
    "id": "99246a8c",
    "outputId": "90ec963a-4ba6-4f79-dbea-48ca7f8e23be"
   },
   "outputs": [
    {
     "data": {
      "text/html": [
       "<div>\n",
       "<style scoped>\n",
       "    .dataframe tbody tr th:only-of-type {\n",
       "        vertical-align: middle;\n",
       "    }\n",
       "\n",
       "    .dataframe tbody tr th {\n",
       "        vertical-align: top;\n",
       "    }\n",
       "\n",
       "    .dataframe thead th {\n",
       "        text-align: right;\n",
       "    }\n",
       "</style>\n",
       "<table border=\"1\" class=\"dataframe\">\n",
       "  <thead>\n",
       "    <tr style=\"text-align: right;\">\n",
       "      <th></th>\n",
       "      <th>Video_number</th>\n",
       "      <th>Density_burst</th>\n",
       "      <th>Density_throttling</th>\n",
       "    </tr>\n",
       "  </thead>\n",
       "  <tbody>\n",
       "    <tr>\n",
       "      <th>0</th>\n",
       "      <td>1</td>\n",
       "      <td>6411024.0</td>\n",
       "      <td>2.062500</td>\n",
       "    </tr>\n",
       "    <tr>\n",
       "      <th>1</th>\n",
       "      <td>2</td>\n",
       "      <td>5576503.0</td>\n",
       "      <td>1.783784</td>\n",
       "    </tr>\n",
       "    <tr>\n",
       "      <th>2</th>\n",
       "      <td>3</td>\n",
       "      <td>7444860.0</td>\n",
       "      <td>3.384615</td>\n",
       "    </tr>\n",
       "    <tr>\n",
       "      <th>3</th>\n",
       "      <td>4</td>\n",
       "      <td>4627552.5</td>\n",
       "      <td>2.890511</td>\n",
       "    </tr>\n",
       "    <tr>\n",
       "      <th>4</th>\n",
       "      <td>5</td>\n",
       "      <td>3275626.0</td>\n",
       "      <td>12517.540541</td>\n",
       "    </tr>\n",
       "  </tbody>\n",
       "</table>\n",
       "</div>"
      ],
      "text/plain": [
       "   Video_number  Density_burst  Density_throttling\n",
       "0             1      6411024.0            2.062500\n",
       "1             2      5576503.0            1.783784\n",
       "2             3      7444860.0            3.384615\n",
       "3             4      4627552.5            2.890511\n",
       "4             5      3275626.0        12517.540541"
      ]
     },
     "execution_count": 12,
     "metadata": {},
     "output_type": "execute_result"
    }
   ],
   "source": [
    "df_480 = pd.DataFrame(data=density_counter('480'))\n",
    "df_480.head(5)"
   ]
  },
  {
   "cell_type": "code",
   "execution_count": 13,
   "id": "116bf6f9",
   "metadata": {
    "colab": {
     "base_uri": "https://localhost:8080/",
     "height": 833
    },
    "executionInfo": {
     "elapsed": 10334,
     "status": "ok",
     "timestamp": 1653500367387,
     "user": {
      "displayName": "Roman Vovchenko",
      "userId": "01649457471994719553"
     },
     "user_tz": -180
    },
    "id": "116bf6f9",
    "outputId": "0e54314b-4bbe-4e5f-d365-5e21dc594ae1"
   },
   "outputs": [
    {
     "data": {
      "text/html": [
       "<div>\n",
       "<style scoped>\n",
       "    .dataframe tbody tr th:only-of-type {\n",
       "        vertical-align: middle;\n",
       "    }\n",
       "\n",
       "    .dataframe tbody tr th {\n",
       "        vertical-align: top;\n",
       "    }\n",
       "\n",
       "    .dataframe thead th {\n",
       "        text-align: right;\n",
       "    }\n",
       "</style>\n",
       "<table border=\"1\" class=\"dataframe\">\n",
       "  <thead>\n",
       "    <tr style=\"text-align: right;\">\n",
       "      <th></th>\n",
       "      <th>Video_number</th>\n",
       "      <th>Density_burst</th>\n",
       "      <th>Density_throttling</th>\n",
       "    </tr>\n",
       "  </thead>\n",
       "  <tbody>\n",
       "    <tr>\n",
       "      <th>0</th>\n",
       "      <td>1</td>\n",
       "      <td>3945923.0</td>\n",
       "      <td>4.125000</td>\n",
       "    </tr>\n",
       "    <tr>\n",
       "      <th>1</th>\n",
       "      <td>2</td>\n",
       "      <td>3655865.0</td>\n",
       "      <td>1.783784</td>\n",
       "    </tr>\n",
       "    <tr>\n",
       "      <th>2</th>\n",
       "      <td>3</td>\n",
       "      <td>4714524.0</td>\n",
       "      <td>3.384615</td>\n",
       "    </tr>\n",
       "    <tr>\n",
       "      <th>3</th>\n",
       "      <td>4</td>\n",
       "      <td>3005547.0</td>\n",
       "      <td>852.251799</td>\n",
       "    </tr>\n",
       "    <tr>\n",
       "      <th>4</th>\n",
       "      <td>5</td>\n",
       "      <td>2381118.0</td>\n",
       "      <td>10934.840426</td>\n",
       "    </tr>\n",
       "  </tbody>\n",
       "</table>\n",
       "</div>"
      ],
      "text/plain": [
       "   Video_number  Density_burst  Density_throttling\n",
       "0             1      3945923.0            4.125000\n",
       "1             2      3655865.0            1.783784\n",
       "2             3      4714524.0            3.384615\n",
       "3             4      3005547.0          852.251799\n",
       "4             5      2381118.0        10934.840426"
      ]
     },
     "execution_count": 13,
     "metadata": {},
     "output_type": "execute_result"
    }
   ],
   "source": [
    "df_360 = pd.DataFrame(data=density_counter('360'))\n",
    "df_360.head(5)"
   ]
  },
  {
   "cell_type": "code",
   "execution_count": 14,
   "id": "b9705631",
   "metadata": {
    "scrolled": true
   },
   "outputs": [],
   "source": [
    "df_4K[\"Quality\"] = \"2160\"\n",
    "df_1440[\"Quality\"] = \"1440\"\n",
    "df_1080[\"Quality\"] = \"1080\"\n",
    "df_720[\"Quality\"] = \"720\"\n",
    "df_480[\"Quality\"] = \"480\"\n",
    "df_360[\"Quality\"] = \"360\""
   ]
  },
  {
   "cell_type": "code",
   "execution_count": 15,
   "id": "8f0442a6",
   "metadata": {
    "scrolled": false
   },
   "outputs": [
    {
     "data": {
      "text/html": [
       "<div>\n",
       "<style scoped>\n",
       "    .dataframe tbody tr th:only-of-type {\n",
       "        vertical-align: middle;\n",
       "    }\n",
       "\n",
       "    .dataframe tbody tr th {\n",
       "        vertical-align: top;\n",
       "    }\n",
       "\n",
       "    .dataframe thead th {\n",
       "        text-align: right;\n",
       "    }\n",
       "</style>\n",
       "<table border=\"1\" class=\"dataframe\">\n",
       "  <thead>\n",
       "    <tr style=\"text-align: right;\">\n",
       "      <th></th>\n",
       "      <th>Video_number</th>\n",
       "      <th>Density_burst</th>\n",
       "      <th>Density_throttling</th>\n",
       "      <th>Quality</th>\n",
       "    </tr>\n",
       "  </thead>\n",
       "  <tbody>\n",
       "    <tr>\n",
       "      <th>0</th>\n",
       "      <td>1</td>\n",
       "      <td>2.575873e+07</td>\n",
       "      <td>7.670063e+05</td>\n",
       "      <td>2160</td>\n",
       "    </tr>\n",
       "    <tr>\n",
       "      <th>1</th>\n",
       "      <td>2</td>\n",
       "      <td>2.093498e+07</td>\n",
       "      <td>8.187726e+05</td>\n",
       "      <td>2160</td>\n",
       "    </tr>\n",
       "    <tr>\n",
       "      <th>2</th>\n",
       "      <td>3</td>\n",
       "      <td>2.473638e+07</td>\n",
       "      <td>1.220762e+06</td>\n",
       "      <td>2160</td>\n",
       "    </tr>\n",
       "    <tr>\n",
       "      <th>3</th>\n",
       "      <td>4</td>\n",
       "      <td>1.771628e+07</td>\n",
       "      <td>1.517696e+06</td>\n",
       "      <td>2160</td>\n",
       "    </tr>\n",
       "    <tr>\n",
       "      <th>4</th>\n",
       "      <td>5</td>\n",
       "      <td>9.715531e+06</td>\n",
       "      <td>7.052399e+05</td>\n",
       "      <td>2160</td>\n",
       "    </tr>\n",
       "    <tr>\n",
       "      <th>...</th>\n",
       "      <td>...</td>\n",
       "      <td>...</td>\n",
       "      <td>...</td>\n",
       "      <td>...</td>\n",
       "    </tr>\n",
       "    <tr>\n",
       "      <th>145</th>\n",
       "      <td>21</td>\n",
       "      <td>2.209689e+06</td>\n",
       "      <td>3.304367e+04</td>\n",
       "      <td>360</td>\n",
       "    </tr>\n",
       "    <tr>\n",
       "      <th>146</th>\n",
       "      <td>22</td>\n",
       "      <td>2.285067e+06</td>\n",
       "      <td>3.488049e+04</td>\n",
       "      <td>360</td>\n",
       "    </tr>\n",
       "    <tr>\n",
       "      <th>147</th>\n",
       "      <td>23</td>\n",
       "      <td>1.595180e+06</td>\n",
       "      <td>2.678645e+04</td>\n",
       "      <td>360</td>\n",
       "    </tr>\n",
       "    <tr>\n",
       "      <th>148</th>\n",
       "      <td>24</td>\n",
       "      <td>2.364400e+06</td>\n",
       "      <td>3.232247e+04</td>\n",
       "      <td>360</td>\n",
       "    </tr>\n",
       "    <tr>\n",
       "      <th>149</th>\n",
       "      <td>25</td>\n",
       "      <td>3.187846e+06</td>\n",
       "      <td>1.354095e+05</td>\n",
       "      <td>360</td>\n",
       "    </tr>\n",
       "  </tbody>\n",
       "</table>\n",
       "<p>150 rows × 4 columns</p>\n",
       "</div>"
      ],
      "text/plain": [
       "     Video_number  Density_burst  Density_throttling Quality\n",
       "0               1   2.575873e+07        7.670063e+05    2160\n",
       "1               2   2.093498e+07        8.187726e+05    2160\n",
       "2               3   2.473638e+07        1.220762e+06    2160\n",
       "3               4   1.771628e+07        1.517696e+06    2160\n",
       "4               5   9.715531e+06        7.052399e+05    2160\n",
       "..            ...            ...                 ...     ...\n",
       "145            21   2.209689e+06        3.304367e+04     360\n",
       "146            22   2.285067e+06        3.488049e+04     360\n",
       "147            23   1.595180e+06        2.678645e+04     360\n",
       "148            24   2.364400e+06        3.232247e+04     360\n",
       "149            25   3.187846e+06        1.354095e+05     360\n",
       "\n",
       "[150 rows x 4 columns]"
      ]
     },
     "execution_count": 15,
     "metadata": {},
     "output_type": "execute_result"
    }
   ],
   "source": [
    "data = pd.concat([df_4K, df_1440, df_1080, df_720, df_480, df_360], ignore_index=True)\n",
    "data"
   ]
  },
  {
   "cell_type": "code",
   "execution_count": 16,
   "id": "0f23821d",
   "metadata": {},
   "outputs": [],
   "source": [
    "import os\n",
    "data.to_csv('data_time.csv')  "
   ]
  }
 ],
 "metadata": {
  "colab": {
   "name": "simple_classifier_all_qualities.ipynb",
   "provenance": []
  },
  "kernelspec": {
   "display_name": "Python 3 (ipykernel)",
   "language": "python",
   "name": "python3"
  },
  "language_info": {
   "codemirror_mode": {
    "name": "ipython",
    "version": 3
   },
   "file_extension": ".py",
   "mimetype": "text/x-python",
   "name": "python",
   "nbconvert_exporter": "python",
   "pygments_lexer": "ipython3",
   "version": "3.8.10"
  }
 },
 "nbformat": 4,
 "nbformat_minor": 5
}
