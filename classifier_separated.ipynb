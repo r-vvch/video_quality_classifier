{
 "cells": [
  {
   "cell_type": "code",
   "execution_count": 19,
   "id": "8e32237b",
   "metadata": {
    "executionInfo": {
     "elapsed": 417,
     "status": "ok",
     "timestamp": 1653558783528,
     "user": {
      "displayName": "Roman Vovchenko",
      "userId": "01649457471994719553"
     },
     "user_tz": -180
    },
    "id": "8e32237b"
   },
   "outputs": [],
   "source": [
    "import pandas as pd\n",
    "import seaborn as sns\n",
    "import math\n",
    "import matplotlib.pyplot as plt"
   ]
  },
  {
   "cell_type": "code",
   "execution_count": 3,
   "id": "RDdwjOMpyBC5",
   "metadata": {
    "executionInfo": {
     "elapsed": 412,
     "status": "ok",
     "timestamp": 1653558794583,
     "user": {
      "displayName": "Roman Vovchenko",
      "userId": "01649457471994719553"
     },
     "user_tz": -180
    },
    "id": "RDdwjOMpyBC5"
   },
   "outputs": [],
   "source": [
    "adresses = [\n",
    "    'YouTube_CSV/1_Wildlife/',\n",
    "    'YouTube_CSV/2_Dynasties/',\n",
    "    'YouTube_CSV/3_Big_Bang/',\n",
    "    'YouTube_CSV/4_UK_National_Parks/',\n",
    "    'YouTube_CSV/5_Mate_or_die_trying/',\n",
    "    'YouTube_CSV/6_Where_Are_the_Stars/',\n",
    "    'YouTube_CSV/7_Filming_Wildlife_Documentary/',\n",
    "    'YouTube_CSV/8_Fireflies/',\n",
    "    'YouTube_CSV/9_Seven_Worlds/',\n",
    "    'YouTube_CSV/10_Uncover_Antarctica/',\n",
    "    'YouTube_CSV/11_What_Sperm_Whales/',\n",
    "    'YouTube_CSV/12_Everest_Biology/',\n",
    "    'YouTube_CSV/13_Mapping_the_Highest_Peak/',\n",
    "    'YouTube_CSV/14_Meet_the_Worlds_Tiniest_Trees/',\n",
    "    'YouTube_CSV/15_What_To_Do/',\n",
    "    'YouTube_CSV/16_Everest_Weather/',\n",
    "    'YouTube_CSV/17_What_Mud_From_Glacial_Lakes/',\n",
    "    'YouTube_CSV/18_Everest_Glaciology/',\n",
    "    'YouTube_CSV/19_Plants_Dying/',\n",
    "    'YouTube_CSV/20_Macaroni_Penguins/',\n",
    "    'YouTube_CSV/21_Go_Inside_an_Antarctic_City/',\n",
    "    'YouTube_CSV/22_Snow_Leopards/',\n",
    "    'YouTube_CSV/23_Saving_the_Florida_Wildlife_Corridor/',\n",
    "    'YouTube_CSV/24_Wolf_Pack_Takes_on_a_Polar_Bear/',\n",
    "    'YouTube_CSV/25_Last_Wild_Places/'\n",
    "]"
   ]
  },
  {
   "cell_type": "code",
   "execution_count": 16,
   "id": "85eb5f6d",
   "metadata": {},
   "outputs": [
    {
     "data": {
      "text/html": [
       "<div>\n",
       "<style scoped>\n",
       "    .dataframe tbody tr th:only-of-type {\n",
       "        vertical-align: middle;\n",
       "    }\n",
       "\n",
       "    .dataframe tbody tr th {\n",
       "        vertical-align: top;\n",
       "    }\n",
       "\n",
       "    .dataframe thead th {\n",
       "        text-align: right;\n",
       "    }\n",
       "</style>\n",
       "<table border=\"1\" class=\"dataframe\">\n",
       "  <thead>\n",
       "    <tr style=\"text-align: right;\">\n",
       "      <th></th>\n",
       "      <th>No.</th>\n",
       "      <th>Time</th>\n",
       "      <th>Length</th>\n",
       "    </tr>\n",
       "  </thead>\n",
       "  <tbody>\n",
       "    <tr>\n",
       "      <th>0</th>\n",
       "      <td>1</td>\n",
       "      <td>0.000000</td>\n",
       "      <td>2344</td>\n",
       "    </tr>\n",
       "    <tr>\n",
       "      <th>1</th>\n",
       "      <td>2</td>\n",
       "      <td>0.000802</td>\n",
       "      <td>66</td>\n",
       "    </tr>\n",
       "    <tr>\n",
       "      <th>2</th>\n",
       "      <td>3</td>\n",
       "      <td>0.026527</td>\n",
       "      <td>1643</td>\n",
       "    </tr>\n",
       "    <tr>\n",
       "      <th>3</th>\n",
       "      <td>4</td>\n",
       "      <td>0.026552</td>\n",
       "      <td>66</td>\n",
       "    </tr>\n",
       "    <tr>\n",
       "      <th>4</th>\n",
       "      <td>5</td>\n",
       "      <td>0.037917</td>\n",
       "      <td>2351</td>\n",
       "    </tr>\n",
       "    <tr>\n",
       "      <th>...</th>\n",
       "      <td>...</td>\n",
       "      <td>...</td>\n",
       "      <td>...</td>\n",
       "    </tr>\n",
       "    <tr>\n",
       "      <th>15723</th>\n",
       "      <td>15724</td>\n",
       "      <td>32.036966</td>\n",
       "      <td>66</td>\n",
       "    </tr>\n",
       "    <tr>\n",
       "      <th>15724</th>\n",
       "      <td>15725</td>\n",
       "      <td>32.037208</td>\n",
       "      <td>26590</td>\n",
       "    </tr>\n",
       "    <tr>\n",
       "      <th>15725</th>\n",
       "      <td>15726</td>\n",
       "      <td>32.037221</td>\n",
       "      <td>66</td>\n",
       "    </tr>\n",
       "    <tr>\n",
       "      <th>15726</th>\n",
       "      <td>15727</td>\n",
       "      <td>32.037227</td>\n",
       "      <td>1630</td>\n",
       "    </tr>\n",
       "    <tr>\n",
       "      <th>15727</th>\n",
       "      <td>15728</td>\n",
       "      <td>32.037257</td>\n",
       "      <td>66</td>\n",
       "    </tr>\n",
       "  </tbody>\n",
       "</table>\n",
       "<p>15728 rows × 3 columns</p>\n",
       "</div>"
      ],
      "text/plain": [
       "         No.       Time  Length\n",
       "0          1   0.000000    2344\n",
       "1          2   0.000802      66\n",
       "2          3   0.026527    1643\n",
       "3          4   0.026552      66\n",
       "4          5   0.037917    2351\n",
       "...      ...        ...     ...\n",
       "15723  15724  32.036966      66\n",
       "15724  15725  32.037208   26590\n",
       "15725  15726  32.037221      66\n",
       "15726  15727  32.037227    1630\n",
       "15727  15728  32.037257      66\n",
       "\n",
       "[15728 rows x 3 columns]"
      ]
     },
     "execution_count": 16,
     "metadata": {},
     "output_type": "execute_result"
    }
   ],
   "source": [
    "data = pd.read_csv(adresses[0] + '4K.csv')\n",
    "data"
   ]
  },
  {
   "cell_type": "code",
   "execution_count": 21,
   "id": "71a28455",
   "metadata": {
    "colab": {
     "base_uri": "https://localhost:8080/",
     "height": 397
    },
    "executionInfo": {
     "elapsed": 695,
     "status": "error",
     "timestamp": 1653558798074,
     "user": {
      "displayName": "Roman Vovchenko",
      "userId": "01649457471994719553"
     },
     "user_tz": -180
    },
    "id": "71a28455",
    "outputId": "78c8281e-2289-44c2-c5b0-15cbc8f02e28",
    "scrolled": false
   },
   "outputs": [
    {
     "name": "stdout",
     "output_type": "stream",
     "text": [
      "32.037257\n",
      "7\n"
     ]
    },
    {
     "data": {
      "image/png": "[encoded data removed]",
      "text/plain": [
       "<Figure size 432x288 with 1 Axes>"
      ]
     },
     "metadata": {
      "needs_background": "light"
     },
     "output_type": "display_data"
    },
    {
     "name": "stdout",
     "output_type": "stream",
     "text": [
      "6158233.5\n",
      "6155818.4\n",
      "2415.0999999996275\n",
      "0\n",
      "2\n",
      "\n",
      "6934033.333333333\n",
      "5573364.75\n",
      "1360668.583333333\n",
      "2415.0999999996275\n",
      "3\n",
      "\n",
      "6596914.5\n",
      "3514072.0\n",
      "3082842.5\n",
      "1360668.583333333\n",
      "6\n",
      "\n",
      "YouTube_CSV/1_Wildlife/4K.csv\n",
      "6\n",
      "41.041969\n",
      "9\n"
     ]
    },
    {
     "data": {
      "image/png": "[encoded data removed]",
      "text/plain": [
       "<Figure size 432x288 with 1 Axes>"
      ]
     },
     "metadata": {
      "needs_background": "light"
     },
     "output_type": "display_data"
    },
    {
     "name": "stdout",
     "output_type": "stream",
     "text": [
      "6746458.75\n",
      "5471472.0\n",
      "1274986.75\n",
      "0\n",
      "4\n",
      "\n",
      "7216774.0\n",
      "4564831.25\n",
      "2651942.75\n",
      "1274986.75\n",
      "5\n",
      "\n",
      "YouTube_CSV/2_Dynasties/4K.csv\n",
      "5\n"
     ]
    },
    {
     "ename": "KeyboardInterrupt",
     "evalue": "",
     "output_type": "error",
     "traceback": [
      "\u001b[1;31m---------------------------------------------------------------------------\u001b[0m",
      "\u001b[1;31mKeyboardInterrupt\u001b[0m                         Traceback (most recent call last)",
      "Input \u001b[1;32mIn [21]\u001b[0m, in \u001b[0;36m<cell line: 4>\u001b[1;34m()\u001b[0m\n\u001b[0;32m      7\u001b[0m time_units \u001b[38;5;241m=\u001b[39m math\u001b[38;5;241m.\u001b[39mceil(max_time \u001b[38;5;241m/\u001b[39m time_unit)\n\u001b[0;32m      8\u001b[0m lengths \u001b[38;5;241m=\u001b[39m [\u001b[38;5;241m0\u001b[39m] \u001b[38;5;241m*\u001b[39m time_units\n\u001b[1;32m----> 9\u001b[0m \u001b[38;5;28;01mfor\u001b[39;00m index, row \u001b[38;5;129;01min\u001b[39;00m data\u001b[38;5;241m.\u001b[39miterrows():\n\u001b[0;32m     10\u001b[0m     lengths[math\u001b[38;5;241m.\u001b[39mfloor(row[\u001b[38;5;124m'\u001b[39m\u001b[38;5;124mTime\u001b[39m\u001b[38;5;124m'\u001b[39m] \u001b[38;5;241m/\u001b[39m time_unit)] \u001b[38;5;241m+\u001b[39m\u001b[38;5;241m=\u001b[39m row[\u001b[38;5;124m'\u001b[39m\u001b[38;5;124mLength\u001b[39m\u001b[38;5;124m'\u001b[39m]\n\u001b[0;32m     12\u001b[0m difference \u001b[38;5;241m=\u001b[39m \u001b[38;5;241m0\u001b[39m\n",
      "File \u001b[1;32m~\\AppData\\Local\\Packages\\PythonSoftwareFoundation.Python.3.10_qbz5n2kfra8p0\\LocalCache\\local-packages\\Python310\\site-packages\\pandas\\core\\frame.py:1324\u001b[0m, in \u001b[0;36mDataFrame.iterrows\u001b[1;34m(self)\u001b[0m\n\u001b[0;32m   1322\u001b[0m klass \u001b[38;5;241m=\u001b[39m \u001b[38;5;28mself\u001b[39m\u001b[38;5;241m.\u001b[39m_constructor_sliced\n\u001b[0;32m   1323\u001b[0m \u001b[38;5;28;01mfor\u001b[39;00m k, v \u001b[38;5;129;01min\u001b[39;00m \u001b[38;5;28mzip\u001b[39m(\u001b[38;5;28mself\u001b[39m\u001b[38;5;241m.\u001b[39mindex, \u001b[38;5;28mself\u001b[39m\u001b[38;5;241m.\u001b[39mvalues):\n\u001b[1;32m-> 1324\u001b[0m     s \u001b[38;5;241m=\u001b[39m \u001b[43mklass\u001b[49m\u001b[43m(\u001b[49m\u001b[43mv\u001b[49m\u001b[43m,\u001b[49m\u001b[43m \u001b[49m\u001b[43mindex\u001b[49m\u001b[38;5;241;43m=\u001b[39;49m\u001b[43mcolumns\u001b[49m\u001b[43m,\u001b[49m\u001b[43m \u001b[49m\u001b[43mname\u001b[49m\u001b[38;5;241;43m=\u001b[39;49m\u001b[43mk\u001b[49m\u001b[43m)\u001b[49m\n\u001b[0;32m   1325\u001b[0m     \u001b[38;5;28;01myield\u001b[39;00m k, s\n",
      "File \u001b[1;32m~\\AppData\\Local\\Packages\\PythonSoftwareFoundation.Python.3.10_qbz5n2kfra8p0\\LocalCache\\local-packages\\Python310\\site-packages\\pandas\\core\\series.py:453\u001b[0m, in \u001b[0;36mSeries.__init__\u001b[1;34m(self, data, index, dtype, name, copy, fastpath)\u001b[0m\n\u001b[0;32m    450\u001b[0m \u001b[38;5;28;01melse\u001b[39;00m:\n\u001b[0;32m    451\u001b[0m     data \u001b[38;5;241m=\u001b[39m sanitize_array(data, index, dtype, copy)\n\u001b[1;32m--> 453\u001b[0m     manager \u001b[38;5;241m=\u001b[39m \u001b[43mget_option\u001b[49m\u001b[43m(\u001b[49m\u001b[38;5;124;43m\"\u001b[39;49m\u001b[38;5;124;43mmode.data_manager\u001b[39;49m\u001b[38;5;124;43m\"\u001b[39;49m\u001b[43m)\u001b[49m\n\u001b[0;32m    454\u001b[0m     \u001b[38;5;28;01mif\u001b[39;00m manager \u001b[38;5;241m==\u001b[39m \u001b[38;5;124m\"\u001b[39m\u001b[38;5;124mblock\u001b[39m\u001b[38;5;124m\"\u001b[39m:\n\u001b[0;32m    455\u001b[0m         data \u001b[38;5;241m=\u001b[39m SingleBlockManager\u001b[38;5;241m.\u001b[39mfrom_array(data, index)\n",
      "File \u001b[1;32m~\\AppData\\Local\\Packages\\PythonSoftwareFoundation.Python.3.10_qbz5n2kfra8p0\\LocalCache\\local-packages\\Python310\\site-packages\\pandas\\_config\\config.py:256\u001b[0m, in \u001b[0;36mCallableDynamicDoc.__call__\u001b[1;34m(self, *args, **kwds)\u001b[0m\n\u001b[0;32m    255\u001b[0m \u001b[38;5;28;01mdef\u001b[39;00m \u001b[38;5;21m__call__\u001b[39m(\u001b[38;5;28mself\u001b[39m, \u001b[38;5;241m*\u001b[39margs, \u001b[38;5;241m*\u001b[39m\u001b[38;5;241m*\u001b[39mkwds):\n\u001b[1;32m--> 256\u001b[0m     \u001b[38;5;28;01mreturn\u001b[39;00m \u001b[38;5;28mself\u001b[39m\u001b[38;5;241m.\u001b[39m\u001b[38;5;18m__func__\u001b[39m(\u001b[38;5;241m*\u001b[39margs, \u001b[38;5;241m*\u001b[39m\u001b[38;5;241m*\u001b[39mkwds)\n",
      "File \u001b[1;32m~\\AppData\\Local\\Packages\\PythonSoftwareFoundation.Python.3.10_qbz5n2kfra8p0\\LocalCache\\local-packages\\Python310\\site-packages\\pandas\\_config\\config.py:131\u001b[0m, in \u001b[0;36m_get_option\u001b[1;34m(pat, silent)\u001b[0m\n\u001b[0;32m    128\u001b[0m key \u001b[38;5;241m=\u001b[39m _get_single_key(pat, silent)\n\u001b[0;32m    130\u001b[0m \u001b[38;5;66;03m# walk the nested dict\u001b[39;00m\n\u001b[1;32m--> 131\u001b[0m root, k \u001b[38;5;241m=\u001b[39m \u001b[43m_get_root\u001b[49m\u001b[43m(\u001b[49m\u001b[43mkey\u001b[49m\u001b[43m)\u001b[49m\n\u001b[0;32m    132\u001b[0m \u001b[38;5;28;01mreturn\u001b[39;00m root[k]\n",
      "\u001b[1;31mKeyboardInterrupt\u001b[0m: "
     ]
    }
   ],
   "source": [
    "time_unit = 5\n",
    "\n",
    "d = {'Video_number': [], 'Density_burst': [], 'Density_throttling': []}\n",
    "for i in range(len(adresses)):\n",
    "    data = pd.read_csv(adresses[i] + '4K.csv')\n",
    "    max_time = data['Time'].iat[-1] - data['Time'].iat[0]\n",
    "    time_units = math.ceil(max_time / time_unit)\n",
    "    lengths = [0] * time_units\n",
    "    for index, row in data.iterrows():\n",
    "        lengths[math.floor(row['Time'] / time_unit)] += row['Length']\n",
    "    \n",
    "    difference = 0\n",
    "    difference_pos = 0\n",
    "    print(max_time)\n",
    "    print(time_units)\n",
    "    times = [0] * (time_units + 1)\n",
    "    \n",
    "    for _ in range(time_units):\n",
    "        times[_ + 1] = _\n",
    "    \n",
    "    \n",
    "    plt.stairs(lengths, times, fill=True)\n",
    "    plt.title(adresses[i] + '4K.csv')\n",
    "    plt.xlabel('time')\n",
    "    plt.show()\n",
    "                \n",
    "    for j in range(1, time_units):\n",
    "        first_sum = 0\n",
    "        second_sum = 0\n",
    "        for k in range(1, j):\n",
    "            first_sum += lengths[k]\n",
    "        for l in range(j, time_units):\n",
    "            second_sum += lengths[l]\n",
    "        if first_sum / j - second_sum / (time_units - j) > difference:\n",
    "            print(first_sum / j)\n",
    "            print(second_sum / (time_units - j))\n",
    "            print(first_sum / j - second_sum / (time_units - j))\n",
    "            print(difference)\n",
    "            print(j)\n",
    "            print()\n",
    "            difference = first_sum / j - second_sum / (time_units - j)\n",
    "            difference_pos = j\n",
    "    print(adresses[i] + '4K.csv')\n",
    "    print(difference_pos)\n",
    "        \n",
    "    # получили массив длин, надо вычислить расположение первоначального пика и вычислить Density_burst и Density_throttling\n",
    "        \n",
    "#     d['Video_number'].append(i + 1)\n",
    "#     d['Density'].append(data['Length'].sum() / (data['Time'].iat[-1] - data['Time'].iat[0]))\n",
    "# df_4K = pd.DataFrame(data=d)\n",
    "# df_4K.head(5)"
   ]
  },
  {
   "cell_type": "code",
   "execution_count": 4,
   "id": "7a296a6b",
   "metadata": {
    "colab": {
     "base_uri": "https://localhost:8080/",
     "height": 833
    },
    "executionInfo": {
     "elapsed": 12254,
     "status": "ok",
     "timestamp": 1653500292866,
     "user": {
      "displayName": "Roman Vovchenko",
      "userId": "01649457471994719553"
     },
     "user_tz": -180
    },
    "id": "7a296a6b",
    "outputId": "576b2e90-b739-425a-fe92-87eb29d054d8"
   },
   "outputs": [
    {
     "data": {
      "text/html": [
       "<div>\n",
       "<style scoped>\n",
       "    .dataframe tbody tr th:only-of-type {\n",
       "        vertical-align: middle;\n",
       "    }\n",
       "\n",
       "    .dataframe tbody tr th {\n",
       "        vertical-align: top;\n",
       "    }\n",
       "\n",
       "    .dataframe thead th {\n",
       "        text-align: right;\n",
       "    }\n",
       "</style>\n",
       "<table border=\"1\" class=\"dataframe\">\n",
       "  <thead>\n",
       "    <tr style=\"text-align: right;\">\n",
       "      <th></th>\n",
       "      <th>Video_number</th>\n",
       "      <th>Density</th>\n",
       "    </tr>\n",
       "  </thead>\n",
       "  <tbody>\n",
       "    <tr>\n",
       "      <th>0</th>\n",
       "      <td>1</td>\n",
       "      <td>1.126651e+06</td>\n",
       "    </tr>\n",
       "    <tr>\n",
       "      <th>1</th>\n",
       "      <td>2</td>\n",
       "      <td>9.961826e+05</td>\n",
       "    </tr>\n",
       "    <tr>\n",
       "      <th>2</th>\n",
       "      <td>3</td>\n",
       "      <td>1.265399e+06</td>\n",
       "    </tr>\n",
       "    <tr>\n",
       "      <th>3</th>\n",
       "      <td>4</td>\n",
       "      <td>9.373538e+05</td>\n",
       "    </tr>\n",
       "    <tr>\n",
       "      <th>4</th>\n",
       "      <td>5</td>\n",
       "      <td>2.781982e+05</td>\n",
       "    </tr>\n",
       "  </tbody>\n",
       "</table>\n",
       "</div>"
      ],
      "text/plain": [
       "   Video_number       Density\n",
       "0             1  1.126651e+06\n",
       "1             2  9.961826e+05\n",
       "2             3  1.265399e+06\n",
       "3             4  9.373538e+05\n",
       "4             5  2.781982e+05"
      ]
     },
     "execution_count": 4,
     "metadata": {},
     "output_type": "execute_result"
    }
   ],
   "source": [
    "d = {'Video_number': [], 'Density': []}\n",
    "for i in range(len(adresses)):\n",
    "    data = pd.read_csv(adresses[i] + '1440.csv')\n",
    "    d['Video_number'].append(i + 1)\n",
    "    d['Density'].append(data['Length'].sum() / (data['Time'].iat[-1] - data['Time'].iat[0]))\n",
    "df_1440 = pd.DataFrame(data=d)\n",
    "df_1440.head(5)"
   ]
  },
  {
   "cell_type": "code",
   "execution_count": 5,
   "id": "00413979",
   "metadata": {
    "id": "00413979",
    "outputId": "32a0a93f-3006-41bf-fa58-2bd8c95f87f9"
   },
   "outputs": [
    {
     "data": {
      "text/html": [
       "<div>\n",
       "<style scoped>\n",
       "    .dataframe tbody tr th:only-of-type {\n",
       "        vertical-align: middle;\n",
       "    }\n",
       "\n",
       "    .dataframe tbody tr th {\n",
       "        vertical-align: top;\n",
       "    }\n",
       "\n",
       "    .dataframe thead th {\n",
       "        text-align: right;\n",
       "    }\n",
       "</style>\n",
       "<table border=\"1\" class=\"dataframe\">\n",
       "  <thead>\n",
       "    <tr style=\"text-align: right;\">\n",
       "      <th></th>\n",
       "      <th>Video_number</th>\n",
       "      <th>Density</th>\n",
       "    </tr>\n",
       "  </thead>\n",
       "  <tbody>\n",
       "    <tr>\n",
       "      <th>0</th>\n",
       "      <td>1</td>\n",
       "      <td>440510.901560</td>\n",
       "    </tr>\n",
       "    <tr>\n",
       "      <th>1</th>\n",
       "      <td>2</td>\n",
       "      <td>395622.236026</td>\n",
       "    </tr>\n",
       "    <tr>\n",
       "      <th>2</th>\n",
       "      <td>3</td>\n",
       "      <td>538152.666635</td>\n",
       "    </tr>\n",
       "    <tr>\n",
       "      <th>3</th>\n",
       "      <td>4</td>\n",
       "      <td>191176.696671</td>\n",
       "    </tr>\n",
       "    <tr>\n",
       "      <th>4</th>\n",
       "      <td>5</td>\n",
       "      <td>117307.761523</td>\n",
       "    </tr>\n",
       "  </tbody>\n",
       "</table>\n",
       "</div>"
      ],
      "text/plain": [
       "   Video_number        Density\n",
       "0             1  440510.901560\n",
       "1             2  395622.236026\n",
       "2             3  538152.666635\n",
       "3             4  191176.696671\n",
       "4             5  117307.761523"
      ]
     },
     "execution_count": 5,
     "metadata": {},
     "output_type": "execute_result"
    }
   ],
   "source": [
    "d = {'Video_number': [], 'Density': []}\n",
    "for i in range(len(adresses)):\n",
    "    data = pd.read_csv(adresses[i] + '1080.csv')\n",
    "    d['Video_number'].append(i + 1)\n",
    "    d['Density'].append(data['Length'].sum() / (data['Time'].iat[-1] - data['Time'].iat[0]))\n",
    "df_1080 = pd.DataFrame(data=d)\n",
    "df_1080.head(5)"
   ]
  },
  {
   "cell_type": "code",
   "execution_count": 6,
   "id": "cd1aad29",
   "metadata": {
    "colab": {
     "base_uri": "https://localhost:8080/",
     "height": 833
    },
    "executionInfo": {
     "elapsed": 11651,
     "status": "ok",
     "timestamp": 1653500326079,
     "user": {
      "displayName": "Roman Vovchenko",
      "userId": "01649457471994719553"
     },
     "user_tz": -180
    },
    "id": "cd1aad29",
    "outputId": "f582ed51-a8dd-47fb-99ec-298d45fcfc7e"
   },
   "outputs": [
    {
     "data": {
      "text/html": [
       "<div>\n",
       "<style scoped>\n",
       "    .dataframe tbody tr th:only-of-type {\n",
       "        vertical-align: middle;\n",
       "    }\n",
       "\n",
       "    .dataframe tbody tr th {\n",
       "        vertical-align: top;\n",
       "    }\n",
       "\n",
       "    .dataframe thead th {\n",
       "        text-align: right;\n",
       "    }\n",
       "</style>\n",
       "<table border=\"1\" class=\"dataframe\">\n",
       "  <thead>\n",
       "    <tr style=\"text-align: right;\">\n",
       "      <th></th>\n",
       "      <th>Video_number</th>\n",
       "      <th>Density</th>\n",
       "    </tr>\n",
       "  </thead>\n",
       "  <tbody>\n",
       "    <tr>\n",
       "      <th>0</th>\n",
       "      <td>1</td>\n",
       "      <td>254406.448877</td>\n",
       "    </tr>\n",
       "    <tr>\n",
       "      <th>1</th>\n",
       "      <td>2</td>\n",
       "      <td>227307.248957</td>\n",
       "    </tr>\n",
       "    <tr>\n",
       "      <th>2</th>\n",
       "      <td>3</td>\n",
       "      <td>316525.995319</td>\n",
       "    </tr>\n",
       "    <tr>\n",
       "      <th>3</th>\n",
       "      <td>4</td>\n",
       "      <td>136406.512784</td>\n",
       "    </tr>\n",
       "    <tr>\n",
       "      <th>4</th>\n",
       "      <td>5</td>\n",
       "      <td>73350.192172</td>\n",
       "    </tr>\n",
       "  </tbody>\n",
       "</table>\n",
       "</div>"
      ],
      "text/plain": [
       "   Video_number        Density\n",
       "0             1  254406.448877\n",
       "1             2  227307.248957\n",
       "2             3  316525.995319\n",
       "3             4  136406.512784\n",
       "4             5   73350.192172"
      ]
     },
     "execution_count": 6,
     "metadata": {},
     "output_type": "execute_result"
    }
   ],
   "source": [
    "d = {'Video_number': [], 'Density': []}\n",
    "for i in range(len(adresses)):\n",
    "    data = pd.read_csv(adresses[i] + '720.csv')\n",
    "    d['Video_number'].append(i + 1)\n",
    "    d['Density'].append(data['Length'].sum() / (data['Time'].iat[-1] - data['Time'].iat[0]))\n",
    "df_720 = pd.DataFrame(data=d)\n",
    "df_720.head(5)"
   ]
  },
  {
   "cell_type": "code",
   "execution_count": 7,
   "id": "99246a8c",
   "metadata": {
    "colab": {
     "base_uri": "https://localhost:8080/",
     "height": 833
    },
    "executionInfo": {
     "elapsed": 10804,
     "status": "ok",
     "timestamp": 1653500340459,
     "user": {
      "displayName": "Roman Vovchenko",
      "userId": "01649457471994719553"
     },
     "user_tz": -180
    },
    "id": "99246a8c",
    "outputId": "90ec963a-4ba6-4f79-dbea-48ca7f8e23be"
   },
   "outputs": [
    {
     "data": {
      "text/html": [
       "<div>\n",
       "<style scoped>\n",
       "    .dataframe tbody tr th:only-of-type {\n",
       "        vertical-align: middle;\n",
       "    }\n",
       "\n",
       "    .dataframe tbody tr th {\n",
       "        vertical-align: top;\n",
       "    }\n",
       "\n",
       "    .dataframe thead th {\n",
       "        text-align: right;\n",
       "    }\n",
       "</style>\n",
       "<table border=\"1\" class=\"dataframe\">\n",
       "  <thead>\n",
       "    <tr style=\"text-align: right;\">\n",
       "      <th></th>\n",
       "      <th>Video_number</th>\n",
       "      <th>Density</th>\n",
       "    </tr>\n",
       "  </thead>\n",
       "  <tbody>\n",
       "    <tr>\n",
       "      <th>0</th>\n",
       "      <td>1</td>\n",
       "      <td>141593.008696</td>\n",
       "    </tr>\n",
       "    <tr>\n",
       "      <th>1</th>\n",
       "      <td>2</td>\n",
       "      <td>122341.943476</td>\n",
       "    </tr>\n",
       "    <tr>\n",
       "      <th>2</th>\n",
       "      <td>3</td>\n",
       "      <td>161517.619880</td>\n",
       "    </tr>\n",
       "    <tr>\n",
       "      <th>3</th>\n",
       "      <td>4</td>\n",
       "      <td>76212.703271</td>\n",
       "    </tr>\n",
       "    <tr>\n",
       "      <th>4</th>\n",
       "      <td>5</td>\n",
       "      <td>48402.582940</td>\n",
       "    </tr>\n",
       "  </tbody>\n",
       "</table>\n",
       "</div>"
      ],
      "text/plain": [
       "   Video_number        Density\n",
       "0             1  141593.008696\n",
       "1             2  122341.943476\n",
       "2             3  161517.619880\n",
       "3             4   76212.703271\n",
       "4             5   48402.582940"
      ]
     },
     "execution_count": 7,
     "metadata": {},
     "output_type": "execute_result"
    }
   ],
   "source": [
    "d = {'Video_number': [], 'Density': []}\n",
    "for i in range(len(adresses)):\n",
    "    data = pd.read_csv(adresses[i] + '480.csv')\n",
    "    d['Video_number'].append(i + 1)\n",
    "    d['Density'].append(data['Length'].sum() / (data['Time'].iat[-1] - data['Time'].iat[0]))\n",
    "df_480 = pd.DataFrame(data=d)\n",
    "df_480.head(5)"
   ]
  },
  {
   "cell_type": "code",
   "execution_count": 8,
   "id": "116bf6f9",
   "metadata": {
    "colab": {
     "base_uri": "https://localhost:8080/",
     "height": 833
    },
    "executionInfo": {
     "elapsed": 10334,
     "status": "ok",
     "timestamp": 1653500367387,
     "user": {
      "displayName": "Roman Vovchenko",
      "userId": "01649457471994719553"
     },
     "user_tz": -180
    },
    "id": "116bf6f9",
    "outputId": "0e54314b-4bbe-4e5f-d365-5e21dc594ae1"
   },
   "outputs": [
    {
     "data": {
      "text/html": [
       "<div>\n",
       "<style scoped>\n",
       "    .dataframe tbody tr th:only-of-type {\n",
       "        vertical-align: middle;\n",
       "    }\n",
       "\n",
       "    .dataframe tbody tr th {\n",
       "        vertical-align: top;\n",
       "    }\n",
       "\n",
       "    .dataframe thead th {\n",
       "        text-align: right;\n",
       "    }\n",
       "</style>\n",
       "<table border=\"1\" class=\"dataframe\">\n",
       "  <thead>\n",
       "    <tr style=\"text-align: right;\">\n",
       "      <th></th>\n",
       "      <th>Video_number</th>\n",
       "      <th>Density</th>\n",
       "    </tr>\n",
       "  </thead>\n",
       "  <tbody>\n",
       "    <tr>\n",
       "      <th>0</th>\n",
       "      <td>1</td>\n",
       "      <td>85888.191889</td>\n",
       "    </tr>\n",
       "    <tr>\n",
       "      <th>1</th>\n",
       "      <td>2</td>\n",
       "      <td>80349.080118</td>\n",
       "    </tr>\n",
       "    <tr>\n",
       "      <th>2</th>\n",
       "      <td>3</td>\n",
       "      <td>100813.146437</td>\n",
       "    </tr>\n",
       "    <tr>\n",
       "      <th>3</th>\n",
       "      <td>4</td>\n",
       "      <td>43596.714024</td>\n",
       "    </tr>\n",
       "    <tr>\n",
       "      <th>4</th>\n",
       "      <td>5</td>\n",
       "      <td>36034.062438</td>\n",
       "    </tr>\n",
       "  </tbody>\n",
       "</table>\n",
       "</div>"
      ],
      "text/plain": [
       "   Video_number        Density\n",
       "0             1   85888.191889\n",
       "1             2   80349.080118\n",
       "2             3  100813.146437\n",
       "3             4   43596.714024\n",
       "4             5   36034.062438"
      ]
     },
     "execution_count": 8,
     "metadata": {},
     "output_type": "execute_result"
    }
   ],
   "source": [
    "d = {'Video_number': [], 'Density': []}\n",
    "for i in range(len(adresses)):\n",
    "    data = pd.read_csv(adresses[i] + '360.csv')\n",
    "    d['Video_number'].append(i + 1)\n",
    "    d['Density'].append(data['Length'].sum() / (data['Time'].iat[-1] - data['Time'].iat[0]))\n",
    "df_360 = pd.DataFrame(data=d)\n",
    "df_360.head(5)"
   ]
  },
  {
   "cell_type": "code",
   "execution_count": 9,
   "id": "b9705631",
   "metadata": {
    "scrolled": true
   },
   "outputs": [],
   "source": [
    "df_4K[\"Quality\"] = \"2160\"\n",
    "df_1440[\"Quality\"] = \"1440\"\n",
    "df_1080[\"Quality\"] = \"1080\"\n",
    "df_720[\"Quality\"] = \"720\"\n",
    "df_480[\"Quality\"] = \"480\"\n",
    "df_360[\"Quality\"] = \"360\""
   ]
  },
  {
   "cell_type": "code",
   "execution_count": 10,
   "id": "8f0442a6",
   "metadata": {},
   "outputs": [
    {
     "data": {
      "text/html": [
       "<div>\n",
       "<style scoped>\n",
       "    .dataframe tbody tr th:only-of-type {\n",
       "        vertical-align: middle;\n",
       "    }\n",
       "\n",
       "    .dataframe tbody tr th {\n",
       "        vertical-align: top;\n",
       "    }\n",
       "\n",
       "    .dataframe thead th {\n",
       "        text-align: right;\n",
       "    }\n",
       "</style>\n",
       "<table border=\"1\" class=\"dataframe\">\n",
       "  <thead>\n",
       "    <tr style=\"text-align: right;\">\n",
       "      <th></th>\n",
       "      <th>Video_number</th>\n",
       "      <th>Density</th>\n",
       "      <th>Quality</th>\n",
       "    </tr>\n",
       "  </thead>\n",
       "  <tbody>\n",
       "    <tr>\n",
       "      <th>0</th>\n",
       "      <td>1</td>\n",
       "      <td>3.896419e+06</td>\n",
       "      <td>2160</td>\n",
       "    </tr>\n",
       "    <tr>\n",
       "      <th>1</th>\n",
       "      <td>2</td>\n",
       "      <td>2.966635e+06</td>\n",
       "      <td>2160</td>\n",
       "    </tr>\n",
       "    <tr>\n",
       "      <th>2</th>\n",
       "      <td>3</td>\n",
       "      <td>3.479719e+06</td>\n",
       "      <td>2160</td>\n",
       "    </tr>\n",
       "    <tr>\n",
       "      <th>3</th>\n",
       "      <td>4</td>\n",
       "      <td>2.635578e+06</td>\n",
       "      <td>2160</td>\n",
       "    </tr>\n",
       "    <tr>\n",
       "      <th>4</th>\n",
       "      <td>5</td>\n",
       "      <td>1.017832e+06</td>\n",
       "      <td>2160</td>\n",
       "    </tr>\n",
       "    <tr>\n",
       "      <th>...</th>\n",
       "      <td>...</td>\n",
       "      <td>...</td>\n",
       "      <td>...</td>\n",
       "    </tr>\n",
       "    <tr>\n",
       "      <th>145</th>\n",
       "      <td>21</td>\n",
       "      <td>4.459779e+04</td>\n",
       "      <td>360</td>\n",
       "    </tr>\n",
       "    <tr>\n",
       "      <th>146</th>\n",
       "      <td>22</td>\n",
       "      <td>4.609897e+04</td>\n",
       "      <td>360</td>\n",
       "    </tr>\n",
       "    <tr>\n",
       "      <th>147</th>\n",
       "      <td>23</td>\n",
       "      <td>3.455007e+04</td>\n",
       "      <td>360</td>\n",
       "    </tr>\n",
       "    <tr>\n",
       "      <th>148</th>\n",
       "      <td>24</td>\n",
       "      <td>4.300249e+04</td>\n",
       "      <td>360</td>\n",
       "    </tr>\n",
       "    <tr>\n",
       "      <th>149</th>\n",
       "      <td>25</td>\n",
       "      <td>1.430856e+05</td>\n",
       "      <td>360</td>\n",
       "    </tr>\n",
       "  </tbody>\n",
       "</table>\n",
       "<p>150 rows × 3 columns</p>\n",
       "</div>"
      ],
      "text/plain": [
       "     Video_number       Density Quality\n",
       "0               1  3.896419e+06    2160\n",
       "1               2  2.966635e+06    2160\n",
       "2               3  3.479719e+06    2160\n",
       "3               4  2.635578e+06    2160\n",
       "4               5  1.017832e+06    2160\n",
       "..            ...           ...     ...\n",
       "145            21  4.459779e+04     360\n",
       "146            22  4.609897e+04     360\n",
       "147            23  3.455007e+04     360\n",
       "148            24  4.300249e+04     360\n",
       "149            25  1.430856e+05     360\n",
       "\n",
       "[150 rows x 3 columns]"
      ]
     },
     "execution_count": 10,
     "metadata": {},
     "output_type": "execute_result"
    }
   ],
   "source": [
    "data = pd.concat([df_4K, df_1440, df_1080, df_720, df_480, df_360], ignore_index=True)\n",
    "data"
   ]
  },
  {
   "cell_type": "code",
   "execution_count": 30,
   "id": "36f43ad9",
   "metadata": {},
   "outputs": [
    {
     "data": {
      "image/png": "[encoded data removed]",
      "text/plain": [
       "<Figure size 640x480 with 1 Axes>"
      ]
     },
     "metadata": {},
     "output_type": "display_data"
    }
   ],
   "source": [
    "sns.set_theme(style=\"ticks\")\n",
    "plot = sns.scatterplot(x=\"Quality\", y=\"Density\", data=data)"
   ]
  },
  {
   "cell_type": "code",
   "execution_count": null,
   "id": "ecc7edba",
   "metadata": {},
   "outputs": [],
   "source": []
  },
  {
   "cell_type": "code",
   "execution_count": null,
   "id": "ae47f31c",
   "metadata": {},
   "outputs": [],
   "source": [
    "time_unit = 5\n",
    "pos = 1\n",
    "for stream, stream_packets in packet_storage.items():\n",
    "    times = []\n",
    "    lengths = []\n",
    "    current_time = 0\n",
    "    while current_time < max_time:\n",
    "        interval_length = 0\n",
    "        for packet in stream_packets:\n",
    "            if current_time < packet.time_relative < current_time + time_unit:\n",
    "                interval_length += packet.length\n",
    "        times.append(current_time)\n",
    "        lengths.append(interval_length)\n",
    "        current_time += time_unit\n",
    "    times.append(max_time)\n",
    "    plt.stairs(lengths, times, fill=True, label=stream)\n",
    "    pos += 1"
   ]
  }
 ],
 "metadata": {
  "colab": {
   "name": "simple_classifier_all_qualities.ipynb",
   "provenance": []
  },
  "kernelspec": {
   "display_name": "Python 3 (ipykernel)",
   "language": "python",
   "name": "python3"
  },
  "language_info": {
   "codemirror_mode": {
    "name": "ipython",
    "version": 3
   },
   "file_extension": ".py",
   "mimetype": "text/x-python",
   "name": "python",
   "nbconvert_exporter": "python",
   "pygments_lexer": "ipython3",
   "version": "3.10.4"
  }
 },
 "nbformat": 4,
 "nbformat_minor": 5
}
