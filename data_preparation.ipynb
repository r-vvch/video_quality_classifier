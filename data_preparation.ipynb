{
 "cells": [
  {
   "cell_type": "code",
   "execution_count": 1,
   "id": "8e32237b",
   "metadata": {
    "executionInfo": {
     "elapsed": 417,
     "status": "ok",
     "timestamp": 1653558783528,
     "user": {
      "displayName": "Roman Vovchenko",
      "userId": "01649457471994719553"
     },
     "user_tz": -180
    },
    "id": "8e32237b"
   },
   "outputs": [],
   "source": [
    "import pandas as pd\n",
    "import math\n",
    "import matplotlib.pyplot as plt"
   ]
  },
  {
   "cell_type": "code",
   "execution_count": 2,
   "id": "RDdwjOMpyBC5",
   "metadata": {
    "executionInfo": {
     "elapsed": 412,
     "status": "ok",
     "timestamp": 1653558794583,
     "user": {
      "displayName": "Roman Vovchenko",
      "userId": "01649457471994719553"
     },
     "user_tz": -180
    },
    "id": "RDdwjOMpyBC5"
   },
   "outputs": [],
   "source": [
    "adresses = [\n",
    "    'YouTube_CSV/1_Wildlife/',\n",
    "    'YouTube_CSV/2_Dynasties/',\n",
    "    'YouTube_CSV/3_Big_Bang/',\n",
    "    'YouTube_CSV/4_UK_National_Parks/',\n",
    "    'YouTube_CSV/5_Mate_or_die_trying/',\n",
    "    'YouTube_CSV/6_Where_Are_the_Stars/',\n",
    "    'YouTube_CSV/7_Filming_Wildlife_Documentary/',\n",
    "    'YouTube_CSV/8_Fireflies/',\n",
    "    'YouTube_CSV/9_Seven_Worlds/',\n",
    "    'YouTube_CSV/10_Uncover_Antarctica/',\n",
    "    'YouTube_CSV/11_What_Sperm_Whales/',\n",
    "    'YouTube_CSV/12_Everest_Biology/',\n",
    "    'YouTube_CSV/13_Mapping_the_Highest_Peak/',\n",
    "    'YouTube_CSV/14_Meet_the_Worlds_Tiniest_Trees/',\n",
    "    'YouTube_CSV/15_What_To_Do/',\n",
    "    'YouTube_CSV/16_Everest_Weather/',\n",
    "    'YouTube_CSV/17_What_Mud_From_Glacial_Lakes/',\n",
    "    'YouTube_CSV/18_Everest_Glaciology/',\n",
    "    'YouTube_CSV/19_Plants_Dying/',\n",
    "    'YouTube_CSV/20_Macaroni_Penguins/',\n",
    "    'YouTube_CSV/21_Go_Inside_an_Antarctic_City/',\n",
    "    'YouTube_CSV/22_Snow_Leopards/',\n",
    "    'YouTube_CSV/23_Saving_the_Florida_Wildlife_Corridor/',\n",
    "    'YouTube_CSV/24_Wolf_Pack_Takes_on_a_Polar_Bear/',\n",
    "    'YouTube_CSV/25_Last_Wild_Places/'\n",
    "]"
   ]
  },
  {
   "cell_type": "code",
   "execution_count": 3,
   "id": "207761a3",
   "metadata": {},
   "outputs": [],
   "source": [
    "def density_counter(quality, is_plotted):\n",
    "    time_unit = 1\n",
    "\n",
    "    d = {'Video_number': [], 'Density_burst': [], 'Density_throttling': []}\n",
    "    for i in range(len(adresses)):\n",
    "        data = pd.read_csv(adresses[i] + quality + '.csv')\n",
    "        max_time = data['Time'].iat[-1] - data['Time'].iat[0]\n",
    "        time_units = math.ceil(max_time / time_unit)\n",
    "        lengths = [0] * time_units\n",
    "        for index, row in data.iterrows():\n",
    "            lengths[math.floor(row['Time'] / time_unit)] += row['Length']\n",
    "\n",
    "        # получили массив длин, надо вычислить расположение первоначального пика\n",
    "        # и вычислить Density_burst и Density_throttling\n",
    "        \n",
    "        if is_plotted == True:\n",
    "            \n",
    "            times = [0] * (time_units + 1)\n",
    "\n",
    "            for m in range(len(times)):\n",
    "                times[m] = m * time_unit\n",
    "            times = [0] * (time_units + 1)\n",
    "\n",
    "            for m in range(len(times)):\n",
    "                times[m] = m * time_unit\n",
    "\n",
    "            plt.stairs(lengths, times, fill=True)\n",
    "            plt.title(adresses[i] + '4K.csv')\n",
    "            plt.xlabel('time')\n",
    "            plt.show()\n",
    "\n",
    "            \n",
    "        difference_pos = 0\n",
    "        \n",
    "        # 40 -- 40 секунд, за которые точно успевает пройти burst\n",
    "        burst_max_time = 40\n",
    "        if time_units - 1 < 40:\n",
    "            burst_max_time = time_units - 1\n",
    "        \n",
    "        # 1 способ -- если есть отрезок с нулевой передаваемой длиной\n",
    "        for j in range(burst_max_time // time_unit):\n",
    "            if (difference_pos == 0 and lengths[j + 1] == 0):\n",
    "                difference_pos = j + 1\n",
    "\n",
    "        # 2 способ -- если столбец отличается в 3 раза от следующего\n",
    "        if difference_pos == 0:\n",
    "            coeff = 3\n",
    "            for j in range(burst_max_time // time_unit):\n",
    "                if lengths[j] != 0 and lengths[j + 1] != 0 and lengths[j] > lengths[j + 1] * coeff:\n",
    "                    difference_pos = j + 1\n",
    "                    coeff = lengths[j] / lengths[j + 1]\n",
    "        \n",
    "        # 3 способ -- поиск зоны с наибольшей разницей плотности\n",
    "        if difference_pos == 0:\n",
    "            difference = 0\n",
    "            for j in range(1, time_units):\n",
    "                first_sum = 0\n",
    "                second_sum = 0\n",
    "                for k in range(0, j):\n",
    "                    first_sum += lengths[k]\n",
    "                for l in range(j, time_units):\n",
    "                    second_sum += lengths[l]\n",
    "                if first_sum / j - second_sum / (time_units - j) > difference:\n",
    "                    difference = first_sum / j - second_sum / (time_units - j)\n",
    "                    difference_pos = j\n",
    "        \n",
    "        if is_plotted == True:\n",
    "            print('difference_pos: ' + str(difference_pos))\n",
    "\n",
    "        \n",
    "        # Вычислили расположение первоначального пика, остались density_burst и density_throttling\n",
    "\n",
    "        density_burst = 0\n",
    "        density_throttling = 0\n",
    "        for p in range(0, difference_pos):\n",
    "            density_burst += lengths[p]\n",
    "        for q in range(difference_pos, time_units):\n",
    "            density_throttling += lengths[q]\n",
    "        density_burst = density_burst / (difference_pos * time_unit)\n",
    "        density_throttling = density_throttling / ((time_units - difference_pos) * time_unit)\n",
    "\n",
    "        num_spaces = len(str(int(density_burst))) - len(str(int(density_throttling)))\n",
    "        \n",
    "        if is_plotted == True:\n",
    "            print('density_burst:        ', density_burst)\n",
    "            print('density_throttling:   ' + ' ' * num_spaces, density_throttling)\n",
    "\n",
    "        d['Video_number'].append(i + 1)\n",
    "        d['Density_burst'].append(density_burst)\n",
    "        d['Density_throttling'].append(density_throttling)\n",
    "        \n",
    "    return d"
   ]
  },
  {
   "cell_type": "code",
   "execution_count": 4,
   "id": "9ac40d33",
   "metadata": {
    "scrolled": true
   },
   "outputs": [
    {
     "data": {
      "image/png": "[encoded data removed]",
      "text/plain": [
       "<Figure size 432x288 with 1 Axes>"
      ]
     },
     "metadata": {
      "needs_background": "light"
     },
     "output_type": "display_data"
    },
    {
     "name": "stdout",
     "output_type": "stream",
     "text": [
      "difference_pos: 3\n",
      "density_burst:         25758728.333333332\n",
      "density_throttling:     1585146.3\n"
     ]
    },
    {
     "data": {
      "image/png": "[encoded data removed]",
      "text/plain": [
       "<Figure size 432x288 with 1 Axes>"
      ]
     },
     "metadata": {
      "needs_background": "light"
     },
     "output_type": "display_data"
    },
    {
     "name": "stdout",
     "output_type": "stream",
     "text": [
      "difference_pos: 3\n",
      "density_burst:         20934975.666666668\n",
      "density_throttling:     1511580.1794871795\n"
     ]
    },
    {
     "data": {
      "image/png": "[encoded data removed]",
      "text/plain": [
       "<Figure size 432x288 with 1 Axes>"
      ]
     },
     "metadata": {
      "needs_background": "light"
     },
     "output_type": "display_data"
    },
    {
     "name": "stdout",
     "output_type": "stream",
     "text": [
      "difference_pos: 3\n",
      "density_burst:         24736381.333333332\n",
      "density_throttling:     2061731.2666666666\n"
     ]
    },
    {
     "data": {
      "image/png": "[encoded data removed]",
      "text/plain": [
       "<Figure size 432x288 with 1 Axes>"
      ]
     },
     "metadata": {
      "needs_background": "light"
     },
     "output_type": "display_data"
    },
    {
     "name": "stdout",
     "output_type": "stream",
     "text": [
      "difference_pos: 4\n",
      "density_burst:         17716277.0\n",
      "density_throttling:     2028604.1683168316\n"
     ]
    },
    {
     "data": {
      "image/png": "[encoded data removed]",
      "text/plain": [
       "<Figure size 432x288 with 1 Axes>"
      ]
     },
     "metadata": {
      "needs_background": "light"
     },
     "output_type": "display_data"
    },
    {
     "name": "stdout",
     "output_type": "stream",
     "text": [
      "difference_pos: 3\n",
      "density_burst:         9715530.666666666\n",
      "density_throttling:     842624.2662337662\n"
     ]
    },
    {
     "data": {
      "image/png": "[encoded data removed]",
      "text/plain": [
       "<Figure size 432x288 with 1 Axes>"
      ]
     },
     "metadata": {
      "needs_background": "light"
     },
     "output_type": "display_data"
    },
    {
     "name": "stdout",
     "output_type": "stream",
     "text": [
      "difference_pos: 2\n",
      "density_burst:         21763364.5\n",
      "density_throttling:     1827577.3612903226\n"
     ]
    },
    {
     "data": {
      "image/png": "[encoded data removed]",
      "text/plain": [
       "<Figure size 432x288 with 1 Axes>"
      ]
     },
     "metadata": {
      "needs_background": "light"
     },
     "output_type": "display_data"
    },
    {
     "name": "stdout",
     "output_type": "stream",
     "text": [
      "difference_pos: 4\n",
      "density_burst:         17789854.75\n",
      "density_throttling:     2094850.767857143\n"
     ]
    },
    {
     "data": {
      "image/png": "[encoded data removed]",
      "text/plain": [
       "<Figure size 432x288 with 1 Axes>"
      ]
     },
     "metadata": {
      "needs_background": "light"
     },
     "output_type": "display_data"
    },
    {
     "name": "stdout",
     "output_type": "stream",
     "text": [
      "difference_pos: 1\n",
      "density_burst:         22528835.0\n",
      "density_throttling:      529345.7132075472\n"
     ]
    },
    {
     "data": {
      "image/png": "[encoded data removed]",
      "text/plain": [
       "<Figure size 432x288 with 1 Axes>"
      ]
     },
     "metadata": {
      "needs_background": "light"
     },
     "output_type": "display_data"
    },
    {
     "name": "stdout",
     "output_type": "stream",
     "text": [
      "difference_pos: 3\n",
      "density_burst:         21769150.666666668\n",
      "density_throttling:     1317822.8375\n"
     ]
    },
    {
     "data": {
      "image/png": "[encoded data removed]",
      "text/plain": [
       "<Figure size 432x288 with 1 Axes>"
      ]
     },
     "metadata": {
      "needs_background": "light"
     },
     "output_type": "display_data"
    },
    {
     "name": "stdout",
     "output_type": "stream",
     "text": [
      "difference_pos: 23\n",
      "density_burst:         3860775.3913043477\n",
      "density_throttling:    1192906.4325581396\n"
     ]
    },
    {
     "data": {
      "image/png": "[encoded data removed]",
      "text/plain": [
       "<Figure size 432x288 with 1 Axes>"
      ]
     },
     "metadata": {
      "needs_background": "light"
     },
     "output_type": "display_data"
    },
    {
     "name": "stdout",
     "output_type": "stream",
     "text": [
      "difference_pos: 15\n",
      "density_burst:         5626412.933333334\n",
      "density_throttling:    1669744.5408163266\n"
     ]
    },
    {
     "data": {
      "image/png": "[encoded data removed]",
      "text/plain": [
       "<Figure size 432x288 with 1 Axes>"
      ]
     },
     "metadata": {
      "needs_background": "light"
     },
     "output_type": "display_data"
    },
    {
     "name": "stdout",
     "output_type": "stream",
     "text": [
      "difference_pos: 29\n",
      "density_burst:         3342867.5172413792\n",
      "density_throttling:    1363895.4315068494\n"
     ]
    },
    {
     "data": {
      "image/png": "[encoded data removed]",
      "text/plain": [
       "<Figure size 432x288 with 1 Axes>"
      ]
     },
     "metadata": {
      "needs_background": "light"
     },
     "output_type": "display_data"
    },
    {
     "name": "stdout",
     "output_type": "stream",
     "text": [
      "difference_pos: 3\n",
      "density_burst:         24494151.333333332\n",
      "density_throttling:     1690658.15\n"
     ]
    },
    {
     "data": {
      "image/png": "[encoded data removed]",
      "text/plain": [
       "<Figure size 432x288 with 1 Axes>"
      ]
     },
     "metadata": {
      "needs_background": "light"
     },
     "output_type": "display_data"
    },
    {
     "name": "stdout",
     "output_type": "stream",
     "text": [
      "difference_pos: 3\n",
      "density_burst:         12707263.666666666\n",
      "density_throttling:     1840269.9096638656\n"
     ]
    },
    {
     "data": {
      "image/png": "[encoded data removed]",
      "text/plain": [
       "<Figure size 432x288 with 1 Axes>"
      ]
     },
     "metadata": {
      "needs_background": "light"
     },
     "output_type": "display_data"
    },
    {
     "name": "stdout",
     "output_type": "stream",
     "text": [
      "difference_pos: 5\n",
      "density_burst:         14109410.8\n",
      "density_throttling:     1854287.99543379\n"
     ]
    },
    {
     "data": {
      "image/png": "[encoded data removed]",
      "text/plain": [
       "<Figure size 432x288 with 1 Axes>"
      ]
     },
     "metadata": {
      "needs_background": "light"
     },
     "output_type": "display_data"
    },
    {
     "name": "stdout",
     "output_type": "stream",
     "text": [
      "difference_pos: 3\n",
      "density_burst:         20749174.333333332\n",
      "density_throttling:     1361573.6076233184\n"
     ]
    },
    {
     "data": {
      "image/png": "[encoded data removed]",
      "text/plain": [
       "<Figure size 432x288 with 1 Axes>"
      ]
     },
     "metadata": {
      "needs_background": "light"
     },
     "output_type": "display_data"
    },
    {
     "name": "stdout",
     "output_type": "stream",
     "text": [
      "difference_pos: 3\n",
      "density_burst:         18917505.666666668\n",
      "density_throttling:     1831183.0893246187\n"
     ]
    },
    {
     "data": {
      "image/png": "[encoded data removed]",
      "text/plain": [
       "<Figure size 432x288 with 1 Axes>"
      ]
     },
     "metadata": {
      "needs_background": "light"
     },
     "output_type": "display_data"
    },
    {
     "name": "stdout",
     "output_type": "stream",
     "text": [
      "difference_pos: 4\n",
      "density_burst:         14757157.5\n",
      "density_throttling:     1567211.405982906\n"
     ]
    },
    {
     "data": {
      "image/png": "[encoded data removed]",
      "text/plain": [
       "<Figure size 432x288 with 1 Axes>"
      ]
     },
     "metadata": {
      "needs_background": "light"
     },
     "output_type": "display_data"
    },
    {
     "name": "stdout",
     "output_type": "stream",
     "text": [
      "difference_pos: 4\n",
      "density_burst:         20510020.25\n",
      "density_throttling:     1966033.5135135136\n"
     ]
    },
    {
     "data": {
      "image/png": "[encoded data removed]",
      "text/plain": [
       "<Figure size 432x288 with 1 Axes>"
      ]
     },
     "metadata": {
      "needs_background": "light"
     },
     "output_type": "display_data"
    },
    {
     "name": "stdout",
     "output_type": "stream",
     "text": [
      "difference_pos: 2\n",
      "density_burst:         37416633.0\n",
      "density_throttling:     1959569.087890625\n"
     ]
    },
    {
     "data": {
      "image/png": "[encoded data removed]",
      "text/plain": [
       "<Figure size 432x288 with 1 Axes>"
      ]
     },
     "metadata": {
      "needs_background": "light"
     },
     "output_type": "display_data"
    },
    {
     "name": "stdout",
     "output_type": "stream",
     "text": [
      "difference_pos: 5\n",
      "density_burst:         13495259.2\n",
      "density_throttling:     1670118.4971644613\n"
     ]
    },
    {
     "data": {
      "image/png": "[encoded data removed]",
      "text/plain": [
       "<Figure size 432x288 with 1 Axes>"
      ]
     },
     "metadata": {
      "needs_background": "light"
     },
     "output_type": "display_data"
    },
    {
     "name": "stdout",
     "output_type": "stream",
     "text": [
      "difference_pos: 3\n",
      "density_burst:         22556985.333333332\n",
      "density_throttling:     1637531.8229342327\n"
     ]
    },
    {
     "data": {
      "image/png": "[encoded data removed]",
      "text/plain": [
       "<Figure size 432x288 with 1 Axes>"
      ]
     },
     "metadata": {
      "needs_background": "light"
     },
     "output_type": "display_data"
    },
    {
     "name": "stdout",
     "output_type": "stream",
     "text": [
      "difference_pos: 2\n",
      "density_burst:         22882952.5\n",
      "density_throttling:     1135178.2966841187\n"
     ]
    },
    {
     "data": {
      "image/png": "[encoded data removed]",
      "text/plain": [
       "<Figure size 432x288 with 1 Axes>"
      ]
     },
     "metadata": {
      "needs_background": "light"
     },
     "output_type": "display_data"
    },
    {
     "name": "stdout",
     "output_type": "stream",
     "text": [
      "difference_pos: 2\n",
      "density_burst:         27554606.0\n",
      "density_throttling:     1517775.0530546624\n"
     ]
    },
    {
     "data": {
      "image/png": "[encoded data removed]",
      "text/plain": [
       "<Figure size 432x288 with 1 Axes>"
      ]
     },
     "metadata": {
      "needs_background": "light"
     },
     "output_type": "display_data"
    },
    {
     "name": "stdout",
     "output_type": "stream",
     "text": [
      "difference_pos: 2\n",
      "density_burst:         24918728.0\n",
      "density_throttling:     1248245.3206106871\n"
     ]
    }
   ],
   "source": [
    "d = density_counter('4K', True)"
   ]
  },
  {
   "cell_type": "code",
   "execution_count": 5,
   "id": "a4fb79be",
   "metadata": {},
   "outputs": [
    {
     "data": {
      "text/html": [
       "<div>\n",
       "<style scoped>\n",
       "    .dataframe tbody tr th:only-of-type {\n",
       "        vertical-align: middle;\n",
       "    }\n",
       "\n",
       "    .dataframe tbody tr th {\n",
       "        vertical-align: top;\n",
       "    }\n",
       "\n",
       "    .dataframe thead th {\n",
       "        text-align: right;\n",
       "    }\n",
       "</style>\n",
       "<table border=\"1\" class=\"dataframe\">\n",
       "  <thead>\n",
       "    <tr style=\"text-align: right;\">\n",
       "      <th></th>\n",
       "      <th>Video_number</th>\n",
       "      <th>Density_burst</th>\n",
       "      <th>Density_throttling</th>\n",
       "    </tr>\n",
       "  </thead>\n",
       "  <tbody>\n",
       "    <tr>\n",
       "      <th>0</th>\n",
       "      <td>1</td>\n",
       "      <td>2.575873e+07</td>\n",
       "      <td>1.585146e+06</td>\n",
       "    </tr>\n",
       "    <tr>\n",
       "      <th>1</th>\n",
       "      <td>2</td>\n",
       "      <td>2.093498e+07</td>\n",
       "      <td>1.511580e+06</td>\n",
       "    </tr>\n",
       "    <tr>\n",
       "      <th>2</th>\n",
       "      <td>3</td>\n",
       "      <td>2.473638e+07</td>\n",
       "      <td>2.061731e+06</td>\n",
       "    </tr>\n",
       "    <tr>\n",
       "      <th>3</th>\n",
       "      <td>4</td>\n",
       "      <td>1.771628e+07</td>\n",
       "      <td>2.028604e+06</td>\n",
       "    </tr>\n",
       "    <tr>\n",
       "      <th>4</th>\n",
       "      <td>5</td>\n",
       "      <td>9.715531e+06</td>\n",
       "      <td>8.426243e+05</td>\n",
       "    </tr>\n",
       "  </tbody>\n",
       "</table>\n",
       "</div>"
      ],
      "text/plain": [
       "   Video_number  Density_burst  Density_throttling\n",
       "0             1   2.575873e+07        1.585146e+06\n",
       "1             2   2.093498e+07        1.511580e+06\n",
       "2             3   2.473638e+07        2.061731e+06\n",
       "3             4   1.771628e+07        2.028604e+06\n",
       "4             5   9.715531e+06        8.426243e+05"
      ]
     },
     "execution_count": 5,
     "metadata": {},
     "output_type": "execute_result"
    }
   ],
   "source": [
    "pd.DataFrame(data=d).head(5)"
   ]
  },
  {
   "cell_type": "code",
   "execution_count": 6,
   "id": "fd37a714",
   "metadata": {},
   "outputs": [
    {
     "data": {
      "text/html": [
       "<div>\n",
       "<style scoped>\n",
       "    .dataframe tbody tr th:only-of-type {\n",
       "        vertical-align: middle;\n",
       "    }\n",
       "\n",
       "    .dataframe tbody tr th {\n",
       "        vertical-align: top;\n",
       "    }\n",
       "\n",
       "    .dataframe thead th {\n",
       "        text-align: right;\n",
       "    }\n",
       "</style>\n",
       "<table border=\"1\" class=\"dataframe\">\n",
       "  <thead>\n",
       "    <tr style=\"text-align: right;\">\n",
       "      <th></th>\n",
       "      <th>Video_number</th>\n",
       "      <th>Density_burst</th>\n",
       "      <th>Density_throttling</th>\n",
       "    </tr>\n",
       "  </thead>\n",
       "  <tbody>\n",
       "    <tr>\n",
       "      <th>0</th>\n",
       "      <td>1</td>\n",
       "      <td>2.575873e+07</td>\n",
       "      <td>1.585146e+06</td>\n",
       "    </tr>\n",
       "    <tr>\n",
       "      <th>1</th>\n",
       "      <td>2</td>\n",
       "      <td>2.093498e+07</td>\n",
       "      <td>1.511580e+06</td>\n",
       "    </tr>\n",
       "    <tr>\n",
       "      <th>2</th>\n",
       "      <td>3</td>\n",
       "      <td>2.473638e+07</td>\n",
       "      <td>2.061731e+06</td>\n",
       "    </tr>\n",
       "    <tr>\n",
       "      <th>3</th>\n",
       "      <td>4</td>\n",
       "      <td>1.771628e+07</td>\n",
       "      <td>2.028604e+06</td>\n",
       "    </tr>\n",
       "    <tr>\n",
       "      <th>4</th>\n",
       "      <td>5</td>\n",
       "      <td>9.715531e+06</td>\n",
       "      <td>8.426243e+05</td>\n",
       "    </tr>\n",
       "  </tbody>\n",
       "</table>\n",
       "</div>"
      ],
      "text/plain": [
       "   Video_number  Density_burst  Density_throttling\n",
       "0             1   2.575873e+07        1.585146e+06\n",
       "1             2   2.093498e+07        1.511580e+06\n",
       "2             3   2.473638e+07        2.061731e+06\n",
       "3             4   1.771628e+07        2.028604e+06\n",
       "4             5   9.715531e+06        8.426243e+05"
      ]
     },
     "execution_count": 6,
     "metadata": {},
     "output_type": "execute_result"
    }
   ],
   "source": [
    "df_4K = pd.DataFrame(data=density_counter('4K', False))\n",
    "df_4K.head(5)"
   ]
  },
  {
   "cell_type": "code",
   "execution_count": 7,
   "id": "7a296a6b",
   "metadata": {
    "colab": {
     "base_uri": "https://localhost:8080/",
     "height": 833
    },
    "executionInfo": {
     "elapsed": 12254,
     "status": "ok",
     "timestamp": 1653500292866,
     "user": {
      "displayName": "Roman Vovchenko",
      "userId": "01649457471994719553"
     },
     "user_tz": -180
    },
    "id": "7a296a6b",
    "outputId": "576b2e90-b739-425a-fe92-87eb29d054d8"
   },
   "outputs": [
    {
     "data": {
      "text/html": [
       "<div>\n",
       "<style scoped>\n",
       "    .dataframe tbody tr th:only-of-type {\n",
       "        vertical-align: middle;\n",
       "    }\n",
       "\n",
       "    .dataframe tbody tr th {\n",
       "        vertical-align: top;\n",
       "    }\n",
       "\n",
       "    .dataframe thead th {\n",
       "        text-align: right;\n",
       "    }\n",
       "</style>\n",
       "<table border=\"1\" class=\"dataframe\">\n",
       "  <thead>\n",
       "    <tr style=\"text-align: right;\">\n",
       "      <th></th>\n",
       "      <th>Video_number</th>\n",
       "      <th>Density_burst</th>\n",
       "      <th>Density_throttling</th>\n",
       "    </tr>\n",
       "  </thead>\n",
       "  <tbody>\n",
       "    <tr>\n",
       "      <th>0</th>\n",
       "      <td>1</td>\n",
       "      <td>13658359.00</td>\n",
       "      <td>2.933333</td>\n",
       "    </tr>\n",
       "    <tr>\n",
       "      <th>1</th>\n",
       "      <td>2</td>\n",
       "      <td>46682571.00</td>\n",
       "      <td>39511.729167</td>\n",
       "    </tr>\n",
       "    <tr>\n",
       "      <th>2</th>\n",
       "      <td>3</td>\n",
       "      <td>22078572.00</td>\n",
       "      <td>165167.280702</td>\n",
       "    </tr>\n",
       "    <tr>\n",
       "      <th>3</th>\n",
       "      <td>4</td>\n",
       "      <td>18859388.00</td>\n",
       "      <td>457462.079646</td>\n",
       "    </tr>\n",
       "    <tr>\n",
       "      <th>4</th>\n",
       "      <td>5</td>\n",
       "      <td>5707550.75</td>\n",
       "      <td>145407.284848</td>\n",
       "    </tr>\n",
       "  </tbody>\n",
       "</table>\n",
       "</div>"
      ],
      "text/plain": [
       "   Video_number  Density_burst  Density_throttling\n",
       "0             1    13658359.00            2.933333\n",
       "1             2    46682571.00        39511.729167\n",
       "2             3    22078572.00       165167.280702\n",
       "3             4    18859388.00       457462.079646\n",
       "4             5     5707550.75       145407.284848"
      ]
     },
     "execution_count": 7,
     "metadata": {},
     "output_type": "execute_result"
    }
   ],
   "source": [
    "df_1440 = pd.DataFrame(data=density_counter('1440', False))\n",
    "df_1440.head(5)"
   ]
  },
  {
   "cell_type": "code",
   "execution_count": 8,
   "id": "00413979",
   "metadata": {
    "id": "00413979",
    "outputId": "32a0a93f-3006-41bf-fa58-2bd8c95f87f9"
   },
   "outputs": [
    {
     "data": {
      "text/html": [
       "<div>\n",
       "<style scoped>\n",
       "    .dataframe tbody tr th:only-of-type {\n",
       "        vertical-align: middle;\n",
       "    }\n",
       "\n",
       "    .dataframe tbody tr th {\n",
       "        vertical-align: top;\n",
       "    }\n",
       "\n",
       "    .dataframe thead th {\n",
       "        text-align: right;\n",
       "    }\n",
       "</style>\n",
       "<table border=\"1\" class=\"dataframe\">\n",
       "  <thead>\n",
       "    <tr style=\"text-align: right;\">\n",
       "      <th></th>\n",
       "      <th>Video_number</th>\n",
       "      <th>Density_burst</th>\n",
       "      <th>Density_throttling</th>\n",
       "    </tr>\n",
       "  </thead>\n",
       "  <tbody>\n",
       "    <tr>\n",
       "      <th>0</th>\n",
       "      <td>1</td>\n",
       "      <td>20224749.0</td>\n",
       "      <td>2.933333</td>\n",
       "    </tr>\n",
       "    <tr>\n",
       "      <th>1</th>\n",
       "      <td>2</td>\n",
       "      <td>18024984.0</td>\n",
       "      <td>2.933333</td>\n",
       "    </tr>\n",
       "    <tr>\n",
       "      <th>2</th>\n",
       "      <td>3</td>\n",
       "      <td>12865137.5</td>\n",
       "      <td>5.739130</td>\n",
       "    </tr>\n",
       "    <tr>\n",
       "      <th>3</th>\n",
       "      <td>4</td>\n",
       "      <td>13728106.0</td>\n",
       "      <td>7.352113</td>\n",
       "    </tr>\n",
       "    <tr>\n",
       "      <th>4</th>\n",
       "      <td>5</td>\n",
       "      <td>13080382.0</td>\n",
       "      <td>49020.863158</td>\n",
       "    </tr>\n",
       "  </tbody>\n",
       "</table>\n",
       "</div>"
      ],
      "text/plain": [
       "   Video_number  Density_burst  Density_throttling\n",
       "0             1     20224749.0            2.933333\n",
       "1             2     18024984.0            2.933333\n",
       "2             3     12865137.5            5.739130\n",
       "3             4     13728106.0            7.352113\n",
       "4             5     13080382.0        49020.863158"
      ]
     },
     "execution_count": 8,
     "metadata": {},
     "output_type": "execute_result"
    }
   ],
   "source": [
    "df_1080 = pd.DataFrame(data=density_counter('1080', False))\n",
    "df_1080.head(5)"
   ]
  },
  {
   "cell_type": "code",
   "execution_count": 9,
   "id": "cd1aad29",
   "metadata": {
    "colab": {
     "base_uri": "https://localhost:8080/",
     "height": 833
    },
    "executionInfo": {
     "elapsed": 11651,
     "status": "ok",
     "timestamp": 1653500326079,
     "user": {
      "displayName": "Roman Vovchenko",
      "userId": "01649457471994719553"
     },
     "user_tz": -180
    },
    "id": "cd1aad29",
    "outputId": "f582ed51-a8dd-47fb-99ec-298d45fcfc7e"
   },
   "outputs": [
    {
     "data": {
      "text/html": [
       "<div>\n",
       "<style scoped>\n",
       "    .dataframe tbody tr th:only-of-type {\n",
       "        vertical-align: middle;\n",
       "    }\n",
       "\n",
       "    .dataframe tbody tr th {\n",
       "        vertical-align: top;\n",
       "    }\n",
       "\n",
       "    .dataframe thead th {\n",
       "        text-align: right;\n",
       "    }\n",
       "</style>\n",
       "<table border=\"1\" class=\"dataframe\">\n",
       "  <thead>\n",
       "    <tr style=\"text-align: right;\">\n",
       "      <th></th>\n",
       "      <th>Video_number</th>\n",
       "      <th>Density_burst</th>\n",
       "      <th>Density_throttling</th>\n",
       "    </tr>\n",
       "  </thead>\n",
       "  <tbody>\n",
       "    <tr>\n",
       "      <th>0</th>\n",
       "      <td>1</td>\n",
       "      <td>11899548.0</td>\n",
       "      <td>2.869565</td>\n",
       "    </tr>\n",
       "    <tr>\n",
       "      <th>1</th>\n",
       "      <td>2</td>\n",
       "      <td>10323730.0</td>\n",
       "      <td>2.933333</td>\n",
       "    </tr>\n",
       "    <tr>\n",
       "      <th>2</th>\n",
       "      <td>3</td>\n",
       "      <td>7353546.0</td>\n",
       "      <td>5.866667</td>\n",
       "    </tr>\n",
       "    <tr>\n",
       "      <th>3</th>\n",
       "      <td>4</td>\n",
       "      <td>8273887.0</td>\n",
       "      <td>6.600000</td>\n",
       "    </tr>\n",
       "    <tr>\n",
       "      <th>4</th>\n",
       "      <td>5</td>\n",
       "      <td>11338098.0</td>\n",
       "      <td>14331.203125</td>\n",
       "    </tr>\n",
       "  </tbody>\n",
       "</table>\n",
       "</div>"
      ],
      "text/plain": [
       "   Video_number  Density_burst  Density_throttling\n",
       "0             1     11899548.0            2.869565\n",
       "1             2     10323730.0            2.933333\n",
       "2             3      7353546.0            5.866667\n",
       "3             4      8273887.0            6.600000\n",
       "4             5     11338098.0        14331.203125"
      ]
     },
     "execution_count": 9,
     "metadata": {},
     "output_type": "execute_result"
    }
   ],
   "source": [
    "df_720 = pd.DataFrame(data=density_counter('720', False))\n",
    "df_720.head(5)"
   ]
  },
  {
   "cell_type": "code",
   "execution_count": 10,
   "id": "99246a8c",
   "metadata": {
    "colab": {
     "base_uri": "https://localhost:8080/",
     "height": 833
    },
    "executionInfo": {
     "elapsed": 10804,
     "status": "ok",
     "timestamp": 1653500340459,
     "user": {
      "displayName": "Roman Vovchenko",
      "userId": "01649457471994719553"
     },
     "user_tz": -180
    },
    "id": "99246a8c",
    "outputId": "90ec963a-4ba6-4f79-dbea-48ca7f8e23be"
   },
   "outputs": [
    {
     "data": {
      "text/html": [
       "<div>\n",
       "<style scoped>\n",
       "    .dataframe tbody tr th:only-of-type {\n",
       "        vertical-align: middle;\n",
       "    }\n",
       "\n",
       "    .dataframe tbody tr th {\n",
       "        vertical-align: top;\n",
       "    }\n",
       "\n",
       "    .dataframe thead th {\n",
       "        text-align: right;\n",
       "    }\n",
       "</style>\n",
       "<table border=\"1\" class=\"dataframe\">\n",
       "  <thead>\n",
       "    <tr style=\"text-align: right;\">\n",
       "      <th></th>\n",
       "      <th>Video_number</th>\n",
       "      <th>Density_burst</th>\n",
       "      <th>Density_throttling</th>\n",
       "    </tr>\n",
       "  </thead>\n",
       "  <tbody>\n",
       "    <tr>\n",
       "      <th>0</th>\n",
       "      <td>1</td>\n",
       "      <td>6411024.0</td>\n",
       "      <td>2.933333</td>\n",
       "    </tr>\n",
       "    <tr>\n",
       "      <th>1</th>\n",
       "      <td>2</td>\n",
       "      <td>5576503.0</td>\n",
       "      <td>2.933333</td>\n",
       "    </tr>\n",
       "    <tr>\n",
       "      <th>2</th>\n",
       "      <td>3</td>\n",
       "      <td>7444860.0</td>\n",
       "      <td>5.739130</td>\n",
       "    </tr>\n",
       "    <tr>\n",
       "      <th>3</th>\n",
       "      <td>4</td>\n",
       "      <td>4627552.5</td>\n",
       "      <td>3.300000</td>\n",
       "    </tr>\n",
       "    <tr>\n",
       "      <th>4</th>\n",
       "      <td>5</td>\n",
       "      <td>3275626.0</td>\n",
       "      <td>12723.873626</td>\n",
       "    </tr>\n",
       "  </tbody>\n",
       "</table>\n",
       "</div>"
      ],
      "text/plain": [
       "   Video_number  Density_burst  Density_throttling\n",
       "0             1      6411024.0            2.933333\n",
       "1             2      5576503.0            2.933333\n",
       "2             3      7444860.0            5.739130\n",
       "3             4      4627552.5            3.300000\n",
       "4             5      3275626.0        12723.873626"
      ]
     },
     "execution_count": 10,
     "metadata": {},
     "output_type": "execute_result"
    }
   ],
   "source": [
    "df_480 = pd.DataFrame(data=density_counter('480', False))\n",
    "df_480.head(5)"
   ]
  },
  {
   "cell_type": "code",
   "execution_count": 11,
   "id": "116bf6f9",
   "metadata": {
    "colab": {
     "base_uri": "https://localhost:8080/",
     "height": 833
    },
    "executionInfo": {
     "elapsed": 10334,
     "status": "ok",
     "timestamp": 1653500367387,
     "user": {
      "displayName": "Roman Vovchenko",
      "userId": "01649457471994719553"
     },
     "user_tz": -180
    },
    "id": "116bf6f9",
    "outputId": "0e54314b-4bbe-4e5f-d365-5e21dc594ae1"
   },
   "outputs": [
    {
     "data": {
      "text/html": [
       "<div>\n",
       "<style scoped>\n",
       "    .dataframe tbody tr th:only-of-type {\n",
       "        vertical-align: middle;\n",
       "    }\n",
       "\n",
       "    .dataframe tbody tr th {\n",
       "        vertical-align: top;\n",
       "    }\n",
       "\n",
       "    .dataframe thead th {\n",
       "        text-align: right;\n",
       "    }\n",
       "</style>\n",
       "<table border=\"1\" class=\"dataframe\">\n",
       "  <thead>\n",
       "    <tr style=\"text-align: right;\">\n",
       "      <th></th>\n",
       "      <th>Video_number</th>\n",
       "      <th>Density_burst</th>\n",
       "      <th>Density_throttling</th>\n",
       "    </tr>\n",
       "  </thead>\n",
       "  <tbody>\n",
       "    <tr>\n",
       "      <th>0</th>\n",
       "      <td>1</td>\n",
       "      <td>3945923.0</td>\n",
       "      <td>5.866667</td>\n",
       "    </tr>\n",
       "    <tr>\n",
       "      <th>1</th>\n",
       "      <td>2</td>\n",
       "      <td>3655865.0</td>\n",
       "      <td>2.933333</td>\n",
       "    </tr>\n",
       "    <tr>\n",
       "      <th>2</th>\n",
       "      <td>3</td>\n",
       "      <td>4714524.0</td>\n",
       "      <td>5.739130</td>\n",
       "    </tr>\n",
       "    <tr>\n",
       "      <th>3</th>\n",
       "      <td>4</td>\n",
       "      <td>3005547.0</td>\n",
       "      <td>852.251799</td>\n",
       "    </tr>\n",
       "    <tr>\n",
       "      <th>4</th>\n",
       "      <td>5</td>\n",
       "      <td>2381118.0</td>\n",
       "      <td>10934.840426</td>\n",
       "    </tr>\n",
       "  </tbody>\n",
       "</table>\n",
       "</div>"
      ],
      "text/plain": [
       "   Video_number  Density_burst  Density_throttling\n",
       "0             1      3945923.0            5.866667\n",
       "1             2      3655865.0            2.933333\n",
       "2             3      4714524.0            5.739130\n",
       "3             4      3005547.0          852.251799\n",
       "4             5      2381118.0        10934.840426"
      ]
     },
     "execution_count": 11,
     "metadata": {},
     "output_type": "execute_result"
    }
   ],
   "source": [
    "df_360 = pd.DataFrame(data=density_counter('360', False))\n",
    "df_360.head(5)"
   ]
  },
  {
   "cell_type": "code",
   "execution_count": 12,
   "id": "b9705631",
   "metadata": {
    "scrolled": true
   },
   "outputs": [],
   "source": [
    "df_4K[\"Quality\"] = \"2160\"\n",
    "df_1440[\"Quality\"] = \"1440\"\n",
    "df_1080[\"Quality\"] = \"1080\"\n",
    "df_720[\"Quality\"] = \"720\"\n",
    "df_480[\"Quality\"] = \"480\"\n",
    "df_360[\"Quality\"] = \"360\""
   ]
  },
  {
   "cell_type": "code",
   "execution_count": 13,
   "id": "8f0442a6",
   "metadata": {
    "scrolled": false
   },
   "outputs": [
    {
     "data": {
      "text/html": [
       "<div>\n",
       "<style scoped>\n",
       "    .dataframe tbody tr th:only-of-type {\n",
       "        vertical-align: middle;\n",
       "    }\n",
       "\n",
       "    .dataframe tbody tr th {\n",
       "        vertical-align: top;\n",
       "    }\n",
       "\n",
       "    .dataframe thead th {\n",
       "        text-align: right;\n",
       "    }\n",
       "</style>\n",
       "<table border=\"1\" class=\"dataframe\">\n",
       "  <thead>\n",
       "    <tr style=\"text-align: right;\">\n",
       "      <th></th>\n",
       "      <th>Video_number</th>\n",
       "      <th>Density_burst</th>\n",
       "      <th>Density_throttling</th>\n",
       "      <th>Quality</th>\n",
       "    </tr>\n",
       "  </thead>\n",
       "  <tbody>\n",
       "    <tr>\n",
       "      <th>0</th>\n",
       "      <td>1</td>\n",
       "      <td>2.575873e+07</td>\n",
       "      <td>1.585146e+06</td>\n",
       "      <td>2160</td>\n",
       "    </tr>\n",
       "    <tr>\n",
       "      <th>1</th>\n",
       "      <td>2</td>\n",
       "      <td>2.093498e+07</td>\n",
       "      <td>1.511580e+06</td>\n",
       "      <td>2160</td>\n",
       "    </tr>\n",
       "    <tr>\n",
       "      <th>2</th>\n",
       "      <td>3</td>\n",
       "      <td>2.473638e+07</td>\n",
       "      <td>2.061731e+06</td>\n",
       "      <td>2160</td>\n",
       "    </tr>\n",
       "    <tr>\n",
       "      <th>3</th>\n",
       "      <td>4</td>\n",
       "      <td>1.771628e+07</td>\n",
       "      <td>2.028604e+06</td>\n",
       "      <td>2160</td>\n",
       "    </tr>\n",
       "    <tr>\n",
       "      <th>4</th>\n",
       "      <td>5</td>\n",
       "      <td>9.715531e+06</td>\n",
       "      <td>8.426243e+05</td>\n",
       "      <td>2160</td>\n",
       "    </tr>\n",
       "    <tr>\n",
       "      <th>...</th>\n",
       "      <td>...</td>\n",
       "      <td>...</td>\n",
       "      <td>...</td>\n",
       "      <td>...</td>\n",
       "    </tr>\n",
       "    <tr>\n",
       "      <th>145</th>\n",
       "      <td>21</td>\n",
       "      <td>2.209689e+06</td>\n",
       "      <td>3.304367e+04</td>\n",
       "      <td>360</td>\n",
       "    </tr>\n",
       "    <tr>\n",
       "      <th>146</th>\n",
       "      <td>22</td>\n",
       "      <td>2.285067e+06</td>\n",
       "      <td>3.488049e+04</td>\n",
       "      <td>360</td>\n",
       "    </tr>\n",
       "    <tr>\n",
       "      <th>147</th>\n",
       "      <td>23</td>\n",
       "      <td>1.595180e+06</td>\n",
       "      <td>2.678645e+04</td>\n",
       "      <td>360</td>\n",
       "    </tr>\n",
       "    <tr>\n",
       "      <th>148</th>\n",
       "      <td>24</td>\n",
       "      <td>2.364400e+06</td>\n",
       "      <td>3.232247e+04</td>\n",
       "      <td>360</td>\n",
       "    </tr>\n",
       "    <tr>\n",
       "      <th>149</th>\n",
       "      <td>25</td>\n",
       "      <td>3.187846e+06</td>\n",
       "      <td>1.355752e+05</td>\n",
       "      <td>360</td>\n",
       "    </tr>\n",
       "  </tbody>\n",
       "</table>\n",
       "<p>150 rows × 4 columns</p>\n",
       "</div>"
      ],
      "text/plain": [
       "     Video_number  Density_burst  Density_throttling Quality\n",
       "0               1   2.575873e+07        1.585146e+06    2160\n",
       "1               2   2.093498e+07        1.511580e+06    2160\n",
       "2               3   2.473638e+07        2.061731e+06    2160\n",
       "3               4   1.771628e+07        2.028604e+06    2160\n",
       "4               5   9.715531e+06        8.426243e+05    2160\n",
       "..            ...            ...                 ...     ...\n",
       "145            21   2.209689e+06        3.304367e+04     360\n",
       "146            22   2.285067e+06        3.488049e+04     360\n",
       "147            23   1.595180e+06        2.678645e+04     360\n",
       "148            24   2.364400e+06        3.232247e+04     360\n",
       "149            25   3.187846e+06        1.355752e+05     360\n",
       "\n",
       "[150 rows x 4 columns]"
      ]
     },
     "execution_count": 13,
     "metadata": {},
     "output_type": "execute_result"
    }
   ],
   "source": [
    "data = pd.concat([df_4K, df_1440, df_1080, df_720, df_480, df_360], ignore_index=True)\n",
    "data"
   ]
  },
  {
   "cell_type": "code",
   "execution_count": 14,
   "id": "0f23821d",
   "metadata": {},
   "outputs": [],
   "source": [
    "import os   \n",
    "data.to_csv('data.csv')  "
   ]
  }
 ],
 "metadata": {
  "colab": {
   "name": "simple_classifier_all_qualities.ipynb",
   "provenance": []
  },
  "kernelspec": {
   "display_name": "Python 3 (ipykernel)",
   "language": "python",
   "name": "python3"
  },
  "language_info": {
   "codemirror_mode": {
    "name": "ipython",
    "version": 3
   },
   "file_extension": ".py",
   "mimetype": "text/x-python",
   "name": "python",
   "nbconvert_exporter": "python",
   "pygments_lexer": "ipython3",
   "version": "3.8.10"
  }
 },
 "nbformat": 4,
 "nbformat_minor": 5
}
